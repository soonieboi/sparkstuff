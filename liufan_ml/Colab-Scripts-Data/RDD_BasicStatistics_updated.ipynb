{
  "nbformat": 4,
  "nbformat_minor": 0,
  "metadata": {
    "colab": {
      "provenance": [],
      "toc_visible": true
    },
    "kernelspec": {
      "name": "python3",
      "display_name": "Python 3"
    },
    "language_info": {
      "name": "python"
    }
  },
  "cells": [
    {
      "cell_type": "markdown",
      "source": [
        "# Set up spark environment and spark session"
      ],
      "metadata": {
        "id": "g3B5mn8YomVE"
      }
    },
    {
      "cell_type": "code",
      "source": [
        "import os\n",
        "\n",
        "# 1. Install OpenJDK 21 (if not already done in a previous cell)\n",
        "!apt-get update -qq\n",
        "!apt-get install -qq openjdk-21-jdk-headless\n",
        "\n",
        "# 2. Verify where it landed (if needed)\n",
        "!ls /usr/lib/jvm | grep 21\n",
        "\n",
        "# 3. Point to JDK 21\n",
        "os.environ[\"JAVA_HOME\"] = \"/usr/lib/jvm/java-21-openjdk-amd64\"\n",
        "os.environ[\"PATH\"] = os.environ[\"JAVA_HOME\"] + \"/bin:\" + os.environ[\"PATH\"]\n",
        "\n",
        "# 4. Install PySpark via pip (make sure this happens AFTER setting JAVA_HOME)\n",
        "!pip install pyspark --quiet\n",
        "# 5. Import and start Spark\n",
        "from pyspark.sql import SparkSession\n",
        "spark = (\n",
        "    SparkSession.builder\n",
        "      .master(\"local[*]\")\n",
        "      .appName(\"RDD-Statistics\")\n",
        "      .getOrCreate()\n",
        ")"
      ],
      "metadata": {
        "colab": {
          "base_uri": "https://localhost:8080/"
        },
        "id": "jUlaHaFAopPo",
        "outputId": "ca708ef9-7734-4138-f316-c88a9c88ad66"
      },
      "execution_count": 1,
      "outputs": [
        {
          "output_type": "stream",
          "name": "stdout",
          "text": [
            "W: Skipping acquire of configured file 'main/source/Sources' as repository 'https://r2u.stat.illinois.edu/ubuntu jammy InRelease' does not seem to provide it (sources.list entry misspelt?)\n",
            "Selecting previously unselected package openjdk-21-jre-headless:amd64.\n",
            "(Reading database ... 126109 files and directories currently installed.)\n",
            "Preparing to unpack .../openjdk-21-jre-headless_21.0.7+6~us1-0ubuntu1~22.04_amd64.deb ...\n",
            "Unpacking openjdk-21-jre-headless:amd64 (21.0.7+6~us1-0ubuntu1~22.04) ...\n",
            "Selecting previously unselected package openjdk-21-jdk-headless:amd64.\n",
            "Preparing to unpack .../openjdk-21-jdk-headless_21.0.7+6~us1-0ubuntu1~22.04_amd64.deb ...\n",
            "Unpacking openjdk-21-jdk-headless:amd64 (21.0.7+6~us1-0ubuntu1~22.04) ...\n",
            "Setting up openjdk-21-jre-headless:amd64 (21.0.7+6~us1-0ubuntu1~22.04) ...\n",
            "update-alternatives: using /usr/lib/jvm/java-21-openjdk-amd64/bin/java to provide /usr/bin/java (java) in auto mode\n",
            "update-alternatives: using /usr/lib/jvm/java-21-openjdk-amd64/bin/jpackage to provide /usr/bin/jpackage (jpackage) in auto mode\n",
            "update-alternatives: using /usr/lib/jvm/java-21-openjdk-amd64/bin/keytool to provide /usr/bin/keytool (keytool) in auto mode\n",
            "update-alternatives: using /usr/lib/jvm/java-21-openjdk-amd64/bin/rmiregistry to provide /usr/bin/rmiregistry (rmiregistry) in auto mode\n",
            "update-alternatives: using /usr/lib/jvm/java-21-openjdk-amd64/lib/jexec to provide /usr/bin/jexec (jexec) in auto mode\n",
            "Setting up openjdk-21-jdk-headless:amd64 (21.0.7+6~us1-0ubuntu1~22.04) ...\n",
            "update-alternatives: using /usr/lib/jvm/java-21-openjdk-amd64/bin/jar to provide /usr/bin/jar (jar) in auto mode\n",
            "update-alternatives: using /usr/lib/jvm/java-21-openjdk-amd64/bin/jarsigner to provide /usr/bin/jarsigner (jarsigner) in auto mode\n",
            "update-alternatives: using /usr/lib/jvm/java-21-openjdk-amd64/bin/javac to provide /usr/bin/javac (javac) in auto mode\n",
            "update-alternatives: using /usr/lib/jvm/java-21-openjdk-amd64/bin/javadoc to provide /usr/bin/javadoc (javadoc) in auto mode\n",
            "update-alternatives: using /usr/lib/jvm/java-21-openjdk-amd64/bin/javap to provide /usr/bin/javap (javap) in auto mode\n",
            "update-alternatives: using /usr/lib/jvm/java-21-openjdk-amd64/bin/jcmd to provide /usr/bin/jcmd (jcmd) in auto mode\n",
            "update-alternatives: using /usr/lib/jvm/java-21-openjdk-amd64/bin/jdb to provide /usr/bin/jdb (jdb) in auto mode\n",
            "update-alternatives: using /usr/lib/jvm/java-21-openjdk-amd64/bin/jdeprscan to provide /usr/bin/jdeprscan (jdeprscan) in auto mode\n",
            "update-alternatives: using /usr/lib/jvm/java-21-openjdk-amd64/bin/jdeps to provide /usr/bin/jdeps (jdeps) in auto mode\n",
            "update-alternatives: using /usr/lib/jvm/java-21-openjdk-amd64/bin/jfr to provide /usr/bin/jfr (jfr) in auto mode\n",
            "update-alternatives: using /usr/lib/jvm/java-21-openjdk-amd64/bin/jimage to provide /usr/bin/jimage (jimage) in auto mode\n",
            "update-alternatives: using /usr/lib/jvm/java-21-openjdk-amd64/bin/jinfo to provide /usr/bin/jinfo (jinfo) in auto mode\n",
            "update-alternatives: using /usr/lib/jvm/java-21-openjdk-amd64/bin/jlink to provide /usr/bin/jlink (jlink) in auto mode\n",
            "update-alternatives: using /usr/lib/jvm/java-21-openjdk-amd64/bin/jmap to provide /usr/bin/jmap (jmap) in auto mode\n",
            "update-alternatives: using /usr/lib/jvm/java-21-openjdk-amd64/bin/jmod to provide /usr/bin/jmod (jmod) in auto mode\n",
            "update-alternatives: using /usr/lib/jvm/java-21-openjdk-amd64/bin/jps to provide /usr/bin/jps (jps) in auto mode\n",
            "update-alternatives: using /usr/lib/jvm/java-21-openjdk-amd64/bin/jrunscript to provide /usr/bin/jrunscript (jrunscript) in auto mode\n",
            "update-alternatives: using /usr/lib/jvm/java-21-openjdk-amd64/bin/jshell to provide /usr/bin/jshell (jshell) in auto mode\n",
            "update-alternatives: using /usr/lib/jvm/java-21-openjdk-amd64/bin/jstack to provide /usr/bin/jstack (jstack) in auto mode\n",
            "update-alternatives: using /usr/lib/jvm/java-21-openjdk-amd64/bin/jstat to provide /usr/bin/jstat (jstat) in auto mode\n",
            "update-alternatives: using /usr/lib/jvm/java-21-openjdk-amd64/bin/jstatd to provide /usr/bin/jstatd (jstatd) in auto mode\n",
            "update-alternatives: using /usr/lib/jvm/java-21-openjdk-amd64/bin/jwebserver to provide /usr/bin/jwebserver (jwebserver) in auto mode\n",
            "update-alternatives: using /usr/lib/jvm/java-21-openjdk-amd64/bin/serialver to provide /usr/bin/serialver (serialver) in auto mode\n",
            "update-alternatives: using /usr/lib/jvm/java-21-openjdk-amd64/bin/jhsdb to provide /usr/bin/jhsdb (jhsdb) in auto mode\n",
            "java-1.21.0-openjdk-amd64\n",
            "java-21-openjdk-amd64\n"
          ]
        }
      ]
    },
    {
      "cell_type": "code",
      "source": [
        "from pyspark.sql.types import StructType, StructField,StringType,IntegerType\n",
        "from pyspark.sql import SparkSession\n",
        "from pyspark import SparkContext\n",
        "sc = SparkContext.getOrCreate()\n",
        "spark = SparkSession(sc)\n",
        "\n"
      ],
      "metadata": {
        "id": "HPxjdaVvE2NT"
      },
      "execution_count": 2,
      "outputs": []
    },
    {
      "cell_type": "code",
      "source": [
        "# Create a list of tuple\n",
        "data = [('ann', 'spring', 'math', 98),\n",
        "        ('ann', 'fall', 'bio', 50),\n",
        "        ('bob', 'spring', 'stats', 100),\n",
        "        ('bob', 'fall', 'stats', 92),\n",
        "        ('bob', 'summer', 'stats', 100),\n",
        "        ('charles', 'spring', 'stats', 88),\n",
        "        ('charles', 'fall', 'bio', 100)]\n",
        "# Create a RDD from the list\n",
        "rdd = sc.parallelize(data)\n",
        "# Create a PySpark DataFrame from RDD\n",
        "df = spark.createDataFrame(rdd, ['name', 'semester', 'subject', 'score'])\n",
        "df.show()\n",
        "df.describe()\n",
        "df.select(\"score\").describe().show()\n",
        "# Filtering rows\n",
        "df.filter(df['score'] > 90).show()\n",
        "# Mutating values\n",
        "df.select(df['name'], df['semester'], df['subject'], df['score'],\n",
        "(df['score'] - 10).alias('adj_score')).show()\n",
        "df.withColumn('sqrt_socre', df['score']/2).show()\n",
        "# Sorting\n",
        "df.sort(df['score']).show()\n",
        "df.sort(df['score'].desc()).show()\n",
        "# Join\n",
        "data = [('ann', 'female', 23),\n",
        "        ('bob', 'male', 19),\n",
        "        ('charles', 'male', 22),\n",
        "        ('david', 'male', 23)]\n",
        "# Define PySpark DataFrame schema: the entire schema is stored as a StructType and individual columns are stored as StructFields\n",
        "schema = StructType([StructField('name', StringType(), True),\n",
        "                    StructField('sex', StringType(), True),\n",
        "                    StructField('age', IntegerType(), True)])\n",
        "df_meta = spark.createDataFrame(data, schema)\n",
        "df_meta.printSchema()\n",
        "df.join(df_meta, on='name', how='inner').show()\n"
      ],
      "metadata": {
        "colab": {
          "base_uri": "https://localhost:8080/"
        },
        "id": "HiFIlQipE487",
        "outputId": "38cc0c21-224e-4fc2-f6ac-deb7ea2bb2bb"
      },
      "execution_count": 3,
      "outputs": [
        {
          "output_type": "stream",
          "name": "stdout",
          "text": [
            "+-------+--------+-------+-----+\n",
            "|   name|semester|subject|score|\n",
            "+-------+--------+-------+-----+\n",
            "|    ann|  spring|   math|   98|\n",
            "|    ann|    fall|    bio|   50|\n",
            "|    bob|  spring|  stats|  100|\n",
            "|    bob|    fall|  stats|   92|\n",
            "|    bob|  summer|  stats|  100|\n",
            "|charles|  spring|  stats|   88|\n",
            "|charles|    fall|    bio|  100|\n",
            "+-------+--------+-------+-----+\n",
            "\n",
            "+-------+------------------+\n",
            "|summary|             score|\n",
            "+-------+------------------+\n",
            "|  count|                 7|\n",
            "|   mean| 89.71428571428571|\n",
            "| stddev|18.126539343499314|\n",
            "|    min|                50|\n",
            "|    max|               100|\n",
            "+-------+------------------+\n",
            "\n",
            "+-------+--------+-------+-----+\n",
            "|   name|semester|subject|score|\n",
            "+-------+--------+-------+-----+\n",
            "|    ann|  spring|   math|   98|\n",
            "|    bob|  spring|  stats|  100|\n",
            "|    bob|    fall|  stats|   92|\n",
            "|    bob|  summer|  stats|  100|\n",
            "|charles|    fall|    bio|  100|\n",
            "+-------+--------+-------+-----+\n",
            "\n",
            "+-------+--------+-------+-----+---------+\n",
            "|   name|semester|subject|score|adj_score|\n",
            "+-------+--------+-------+-----+---------+\n",
            "|    ann|  spring|   math|   98|       88|\n",
            "|    ann|    fall|    bio|   50|       40|\n",
            "|    bob|  spring|  stats|  100|       90|\n",
            "|    bob|    fall|  stats|   92|       82|\n",
            "|    bob|  summer|  stats|  100|       90|\n",
            "|charles|  spring|  stats|   88|       78|\n",
            "|charles|    fall|    bio|  100|       90|\n",
            "+-------+--------+-------+-----+---------+\n",
            "\n",
            "+-------+--------+-------+-----+----------+\n",
            "|   name|semester|subject|score|sqrt_socre|\n",
            "+-------+--------+-------+-----+----------+\n",
            "|    ann|  spring|   math|   98|      49.0|\n",
            "|    ann|    fall|    bio|   50|      25.0|\n",
            "|    bob|  spring|  stats|  100|      50.0|\n",
            "|    bob|    fall|  stats|   92|      46.0|\n",
            "|    bob|  summer|  stats|  100|      50.0|\n",
            "|charles|  spring|  stats|   88|      44.0|\n",
            "|charles|    fall|    bio|  100|      50.0|\n",
            "+-------+--------+-------+-----+----------+\n",
            "\n",
            "+-------+--------+-------+-----+\n",
            "|   name|semester|subject|score|\n",
            "+-------+--------+-------+-----+\n",
            "|    ann|    fall|    bio|   50|\n",
            "|charles|  spring|  stats|   88|\n",
            "|    bob|    fall|  stats|   92|\n",
            "|    ann|  spring|   math|   98|\n",
            "|    bob|  summer|  stats|  100|\n",
            "|    bob|  spring|  stats|  100|\n",
            "|charles|    fall|    bio|  100|\n",
            "+-------+--------+-------+-----+\n",
            "\n",
            "+-------+--------+-------+-----+\n",
            "|   name|semester|subject|score|\n",
            "+-------+--------+-------+-----+\n",
            "|    bob|  summer|  stats|  100|\n",
            "|    bob|  spring|  stats|  100|\n",
            "|charles|    fall|    bio|  100|\n",
            "|    ann|  spring|   math|   98|\n",
            "|    bob|    fall|  stats|   92|\n",
            "|charles|  spring|  stats|   88|\n",
            "|    ann|    fall|    bio|   50|\n",
            "+-------+--------+-------+-----+\n",
            "\n",
            "root\n",
            " |-- name: string (nullable = true)\n",
            " |-- sex: string (nullable = true)\n",
            " |-- age: integer (nullable = true)\n",
            "\n",
            "+-------+--------+-------+-----+------+---+\n",
            "|   name|semester|subject|score|   sex|age|\n",
            "+-------+--------+-------+-----+------+---+\n",
            "|    ann|  spring|   math|   98|female| 23|\n",
            "|    ann|    fall|    bio|   50|female| 23|\n",
            "|    bob|  spring|  stats|  100|  male| 19|\n",
            "|    bob|    fall|  stats|   92|  male| 19|\n",
            "|    bob|  summer|  stats|  100|  male| 19|\n",
            "|charles|  spring|  stats|   88|  male| 22|\n",
            "|charles|    fall|    bio|  100|  male| 22|\n",
            "+-------+--------+-------+-----+------+---+\n",
            "\n"
          ]
        }
      ]
    },
    {
      "cell_type": "code",
      "source": [
        "# Stop the Spark session\n",
        "spark.stop()"
      ],
      "metadata": {
        "id": "tBuWIojTpHup"
      },
      "execution_count": 4,
      "outputs": []
    }
  ]
}