{
  "nbformat": 4,
  "nbformat_minor": 0,
  "metadata": {
    "colab": {
      "provenance": [],
      "authorship_tag": "ABX9TyOmdI0uSrgxlwnToK/cYAif",
      "include_colab_link": true
    },
    "kernelspec": {
      "name": "python3",
      "display_name": "Python 3"
    },
    "language_info": {
      "name": "python"
    }
  },
  "cells": [
    {
      "cell_type": "markdown",
      "metadata": {
        "id": "view-in-github",
        "colab_type": "text"
      },
      "source": [
        "<a href=\"https://colab.research.google.com/github/suriarasai/BEAD2025/blob/main/COLAB/10AgentDemo.ipynb\" target=\"_parent\"><img src=\"https://colab.research.google.com/assets/colab-badge.svg\" alt=\"Open In Colab\"/></a>"
      ]
    },
    {
      "cell_type": "markdown",
      "source": [
        "Agentic AI Demo using Diabetic Data Set and Gemini. Use the prompt below:\n",
        "\n",
        "This is data from diabetic prediction. I want to extract key insights from this data. Also, clean up the data, fill null values intelligently, perform feature engineering techniques and run a prediction model on outcome variables. Analyse the predictive model results to derive new insight."
      ],
      "metadata": {
        "id": "x9B_UZuGwf1l"
      }
    },
    {
      "cell_type": "code",
      "execution_count": null,
      "metadata": {
        "id": "Wrekua2fwEFN"
      },
      "outputs": [],
      "source": []
    }
  ]
}