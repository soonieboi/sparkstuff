{
  "nbformat": 4,
  "nbformat_minor": 0,
  "metadata": {
    "colab": {
      "provenance": [],
      "authorship_tag": "ABX9TyMr8yshobjqd1F5K7ShkDaq",
      "include_colab_link": true
    },
    "kernelspec": {
      "name": "python3",
      "display_name": "Python 3"
    },
    "language_info": {
      "name": "python"
    }
  },
  "cells": [
    {
      "cell_type": "markdown",
      "metadata": {
        "id": "view-in-github",
        "colab_type": "text"
      },
      "source": [
        "<a href=\"https://colab.research.google.com/github/suriarasai/BEAD2025/blob/main/colab/02a_Functional_Programming_Solution.ipynb\" target=\"_parent\"><img src=\"https://colab.research.google.com/assets/colab-badge.svg\" alt=\"Open In Colab\"/></a>"
      ]
    },
    {
      "cell_type": "markdown",
      "source": [
        "# Tuple Excercises\n",
        "\n",
        "#### Exercise 1: Basic Tuple Operations\n",
        "Step 1: Creating a Tuple\n",
        "\n",
        "We need to create a tuple named fruits containing \"apple\", \"banana\", and \"cherry\".\n",
        "```\n",
        "# Creating the tuple\n",
        "fruits = (\"apple\", \"banana\", \"cherry\")\n",
        "```\n",
        "Step 2: Modifying an Item in the Tuple\n",
        "Next, we will attempt to change the second item (currently \"banana\") to \"strawberry\". This is where we will encounter the immutable nature of tuples.\n",
        "```\n",
        "try:\n",
        "    # Attempting to change the second item\n",
        "    fruits[1] = \"strawberry\"\n",
        "except TypeError as e:\n",
        "    # Capturing and printing the error\n",
        "    print(\"Error:\", e)\n",
        "```\n",
        "Expected Outcome:\n",
        "When we run the above code, it should raise a TypeError because tuples are immutable, and we cannot change their elements once created. The error message will provide insights into why the operation is not allowed.\n",
        "\n",
        "In Python, attempting to modify an item in a tuple will result in a TypeError similar to \"TypeError: 'tuple' object does not support item assignment\". This demonstrates the immutable property of tuples."
      ],
      "metadata": {
        "id": "4KbIKebb5CiY"
      }
    },
    {
      "cell_type": "code",
      "source": [
        "# Creating the tuple\n",
        "fruits = (\"apple\", \"banana\", \"cherry\")\n",
        "print(fruits)\n",
        "# {} class object [] list () tuple\n",
        "try:\n",
        "    # Attempting to change the second item\n",
        "    fruits[1] = \"strawberry\"\n",
        "except TypeError as e:\n",
        "    # Capturing and printing the error\n",
        "    print(\"Error:\", e)"
      ],
      "metadata": {
        "id": "F3Nl3geu5Qx2",
        "colab": {
          "base_uri": "https://localhost:8080/"
        },
        "outputId": "bd9be1a3-949a-4230-c811-3a0cc0d5826a"
      },
      "execution_count": null,
      "outputs": [
        {
          "output_type": "stream",
          "name": "stdout",
          "text": [
            "('apple', 'banana', 'cherry')\n"
          ]
        }
      ]
    },
    {
      "cell_type": "markdown",
      "source": [
        "### Exercise 2: Working with Named Tuples\n",
        "\n",
        "For creating a named tuple Car with fields make, model, and year, instantiating it, and printing each field:"
      ],
      "metadata": {
        "id": "pgKJTY73QLYB"
      }
    },
    {
      "cell_type": "code",
      "source": [
        "from collections import namedtuple\n",
        "\n",
        "# Define the namedtuple 'Car'\n",
        "Car = namedtuple('Car', ['make', 'model', 'year'])\n",
        "\n",
        "# Instantiate a Car object named 'my_car' with appropriate values\n",
        "my_car = Car(make='Honda', model='Jazz', year=2022)\n",
        "\n",
        "# Printing each field of 'my_car'\n",
        "print(f\"Make: {my_car.make}\")\n",
        "print(f\"Model: {my_car.model}\")\n",
        "print(f\"Year: {my_car.year}\")\n"
      ],
      "metadata": {
        "colab": {
          "base_uri": "https://localhost:8080/"
        },
        "id": "w3PN2WwoQwCn",
        "outputId": "e2b06986-b0db-43bb-c4e9-f45a5e3b1abd"
      },
      "execution_count": null,
      "outputs": [
        {
          "output_type": "stream",
          "name": "stdout",
          "text": [
            "Make: Honda\n",
            "Model: Jazz\n",
            "Year: 2022\n"
          ]
        }
      ]
    },
    {
      "cell_type": "markdown",
      "source": [
        "### Exercise 3: Advanced Usage of Named Tuples\n",
        "We have extended the Car named tuple to include a method age that calculates the age of the car based on the current year. Here's the Python solution:"
      ],
      "metadata": {
        "id": "I8OMpnxoQ7e3"
      }
    },
    {
      "cell_type": "code",
      "source": [
        "from collections import namedtuple\n",
        "import datetime\n",
        "\n",
        "# Extend the namedtuple 'Car' to include a method 'age'\n",
        "class Car(namedtuple('Car', ['make', 'model', 'year'])):\n",
        "    # To prevent use of Dictionary\n",
        "    __slots__ = ()\n",
        "\n",
        "    def age(self):\n",
        "        current_year = datetime.datetime.today().year\n",
        "        return current_year - self.year\n",
        "\n",
        "# Instantiate a Car object\n",
        "my_car = Car(make='Honda', model='Civic', year=2015)\n",
        "\n",
        "# Use the age method to find its age\n",
        "print(my_car.age())\n"
      ],
      "metadata": {
        "colab": {
          "base_uri": "https://localhost:8080/"
        },
        "id": "iq9GSAZwRl5Q",
        "outputId": "25a3fd95-1a2e-4f16-e18b-c85bf1ca740e"
      },
      "execution_count": 1,
      "outputs": [
        {
          "output_type": "stream",
          "name": "stdout",
          "text": [
            "10\n"
          ]
        }
      ]
    },
    {
      "cell_type": "markdown",
      "source": [
        "When running this code with a Car object representing a Honda Civic from the year 2015, it calculates that the car is 8 years old."
      ],
      "metadata": {
        "id": "1MdX-1SrRyUU"
      }
    },
    {
      "cell_type": "markdown",
      "source": [
        "### Exercise 4: Exploring Tuple Unpacking\n",
        "For creating a tuple coordinates with values (10, 20, 30), unpacking these values into variables x, y, and z, and then printing them:"
      ],
      "metadata": {
        "id": "v0g6o2RsR5WS"
      }
    },
    {
      "cell_type": "code",
      "source": [
        "# Create a tuple 'coordinates' with values (10, 20, 30)\n",
        "coordinates = (10, 20, 30, 40, 50)\n",
        "\n",
        "# Unpack these values into variables x, y, and z\n",
        "x, y, z, a, b = coordinates\n",
        "\n",
        "# Print the variables\n",
        "print(f\"x: {x}, y: {y}, z: {z}\")\n"
      ],
      "metadata": {
        "id": "c5iEOPJ1SM-_",
        "colab": {
          "base_uri": "https://localhost:8080/"
        },
        "outputId": "74a241c8-b40a-456d-aa4f-e35c394ff52b"
      },
      "execution_count": null,
      "outputs": [
        {
          "output_type": "stream",
          "name": "stdout",
          "text": [
            "x: 10, y: 20, z: 30\n"
          ]
        }
      ]
    },
    {
      "cell_type": "markdown",
      "source": [
        "### Exercise 5: Practical Application of Named Tuples\n",
        "\n",
        "We must first create a named tuple Student with fields name, roll_number, and grade, and a list of Student instances representing a class of students. Then, we write a function to calculate the average grade of the class."
      ],
      "metadata": {
        "id": "3LVObQKtSS80"
      }
    },
    {
      "cell_type": "code",
      "source": [
        "from collections import namedtuple\n",
        "\n",
        "# Define the namedtuple 'Student'\n",
        "Student = namedtuple('Student', ['name', 'roll_number', 'grade'])\n",
        "\n",
        "# Create a list of Student instances representing a class of students\n",
        "class_students = [\n",
        "    Student(name='Anong', roll_number=1, grade=85),\n",
        "    Student(name='Budi', roll_number=2, grade=90),\n",
        "    Student(name='Chai', roll_number=3, grade=75),\n",
        "    Student(name='Dao', roll_number=4, grade=88),\n",
        "    Student(name='Lim', roll_number=5, grade=92)\n",
        "]\n",
        "\n",
        "# Function to find the average grade of the class\n",
        "def average_grade(students):\n",
        "    total_grade = sum(student.grade for student in students)\n",
        "    return total_grade / len(students)\n",
        "\n",
        "# Calculate the average grade and print\n",
        "print(average_grade(class_students))\n"
      ],
      "metadata": {
        "colab": {
          "base_uri": "https://localhost:8080/"
        },
        "id": "dq8WhkTZSyzx",
        "outputId": "e83818dc-3672-43ad-e086-e7fce8d2313d"
      },
      "execution_count": 2,
      "outputs": [
        {
          "output_type": "stream",
          "name": "stdout",
          "text": [
            "86.0\n"
          ]
        }
      ]
    },
    {
      "cell_type": "markdown",
      "source": [
        "## Map Exercises\n",
        "### Exercise 1: Basic Usage of map\n",
        "We create a tuple of numbers first. Followed by a map function call to create the square of every element"
      ],
      "metadata": {
        "id": "F7iPTWL9UByw"
      }
    },
    {
      "cell_type": "code",
      "source": [
        "# Create a list of numbers\n",
        "numbers = (1, 2, 3, 4, 5)\n",
        "\n",
        "# Beginners\n",
        "f1 = lambda x: x**2\n",
        "result = map(f1, numbers)\n",
        "answer = tuple(result)\n",
        "print(answer)\n",
        "\n",
        "# Use the map function to create a new list where each number is squared and print\n",
        "print(tuple(map(lambda x: x**2, numbers)))\n",
        "\n",
        "\n"
      ],
      "metadata": {
        "colab": {
          "base_uri": "https://localhost:8080/"
        },
        "id": "grjz-y_hUUEz",
        "outputId": "ad935bc3-9287-4dc6-d9fd-81fc5c0f7fc7"
      },
      "execution_count": null,
      "outputs": [
        {
          "output_type": "stream",
          "name": "stdout",
          "text": [
            "[1, 4, 9, 16, 25]\n"
          ]
        }
      ]
    },
    {
      "cell_type": "markdown",
      "source": [
        "### Exercise 2: Using map with Named Tuples\n",
        "We define a named tuple Person with fields name and age, created a list of Person instances, and then use the map function to increase the age of each person by 1 year, creating a list of the updated persons."
      ],
      "metadata": {
        "id": "qfFOzpXlUxmN"
      }
    },
    {
      "cell_type": "code",
      "source": [
        "from collections import namedtuple\n",
        "\n",
        "# Define the namedtuple 'Person'\n",
        "Person = namedtuple('Person', ['name', 'age'])\n",
        "\n",
        "# Create a list of Person instances\n",
        "people = [\n",
        "    Person(name='Alice', age=30),\n",
        "    Person(name='Bob', age=25),\n",
        "    Person(name='Charlie', age=40)\n",
        "]\n",
        "\n",
        "# Function to increase the age of a person by 1 year\n",
        "def increase_age(person):\n",
        "    return Person(name=person.name, age=person.age + 1)\n",
        "\n",
        "# Use the map function to increase the age of each person by 1 year\n",
        "print(list(map(increase_age, people)))\n"
      ],
      "metadata": {
        "colab": {
          "base_uri": "https://localhost:8080/"
        },
        "id": "0XpXNRBeUxQW",
        "outputId": "c477c86d-60a4-4014-a0a6-4a843b0910db"
      },
      "execution_count": null,
      "outputs": [
        {
          "output_type": "stream",
          "name": "stdout",
          "text": [
            "[Person(name='Alice', age=31), Person(name='Bob', age=26), Person(name='Charlie', age=41)]\n"
          ]
        }
      ]
    },
    {
      "cell_type": "markdown",
      "source": [
        "### Exercise 3: Combining map and Lambda Functions\n",
        "We create a list of tuples where each tuple is a coordinate (x, y) and use map with a lambda function to create a new list where each coordinate is translated by adding 1 to both x and y values."
      ],
      "metadata": {
        "id": "jGqRdwRDVTkf"
      }
    },
    {
      "cell_type": "code",
      "source": [
        "# Create a list of tuples where each tuple is a coordinate (x, y)\n",
        "coordinates = [(2, 3), (4, 5), (6, 7), (8, 9)]\n",
        "\n",
        "# Use map with a lambda function to translate each coordinate by adding 1 to both x and y values\n",
        "print(list(map(lambda coord: (coord[0] + 1, coord[1] + 1), coordinates)))\n"
      ],
      "metadata": {
        "colab": {
          "base_uri": "https://localhost:8080/"
        },
        "id": "98QJjPKKVWmX",
        "outputId": "cff700cd-5e95-4413-a26a-d43dfce82e5b"
      },
      "execution_count": null,
      "outputs": [
        {
          "output_type": "stream",
          "name": "stdout",
          "text": [
            "[(3, 4), (5, 6), (7, 8), (9, 10)]\n"
          ]
        }
      ]
    },
    {
      "cell_type": "markdown",
      "source": [
        "### Exercise 4: Multiple Iterables with map\n",
        "We create two lists of equal length, one with names and the other with ages, and define a named tuple Person with fields name and age. Then, we use map to create a list of Person instances using these two lists."
      ],
      "metadata": {
        "id": "3gUQO6MpVyoy"
      }
    },
    {
      "cell_type": "code",
      "source": [
        "from collections import namedtuple\n",
        "\n",
        "# Define the namedtuple 'Person'\n",
        "Person = namedtuple('Person', ['name', 'age'])\n",
        "\n",
        "# Create two lists of equal length: one with names, another with ages\n",
        "names = ['Amir', 'Bianca', 'Divya']\n",
        "ages = [30, 25, 40]\n",
        "\n",
        "# Use map to create a list of Person instances using the two lists\n",
        "print(list(map(Person._make, zip(names, ages))))\n"
      ],
      "metadata": {
        "colab": {
          "base_uri": "https://localhost:8080/"
        },
        "id": "Lo6Ch1uFV7wC",
        "outputId": "2b20a6f5-11c0-438d-a87d-2b84076d581b"
      },
      "execution_count": 4,
      "outputs": [
        {
          "output_type": "stream",
          "name": "stdout",
          "text": [
            "[Person(name='Amir', age=30), Person(name='Bianca', age=25), Person(name='Divya', age=40)]\n"
          ]
        }
      ]
    },
    {
      "cell_type": "markdown",
      "source": [
        "### Exercise 5: Advanced Application of map\n",
        "We create a list of named tuples representing products, each with fields name and price. We then write a function that applies a discount to the price. We can also set the dicount percentage as a variable (to accomodate future changes). Using map, this function can be applied to all products to generate a list of products with discounted prices."
      ],
      "metadata": {
        "id": "eK2iulwyWTn-"
      }
    },
    {
      "cell_type": "code",
      "source": [
        "from collections import namedtuple\n",
        "\n",
        "# Define the namedtuple 'Product'\n",
        "Product = namedtuple('Product', ['name', 'price'])\n",
        "\n",
        "# Create a list of named tuples representing products\n",
        "products = [\n",
        "    Product(name='Laptop', price=1000),\n",
        "    Product(name='Smartphone', price=500),\n",
        "    Product(name='Headphones', price=150)\n",
        "]\n",
        "\n",
        "# Function that applies a discount to the price\n",
        "def apply_discount(product, discount_percent):\n",
        "    discounted_price = product.price * (1 - discount_percent / 100)\n",
        "    return Product(name=product.name, price=discounted_price)\n",
        "\n",
        "# Discount percentage\n",
        "discount_percent = 10  # 10% discount\n",
        "\n",
        "# Use map to apply the discount function to all products\n",
        "print(list(map(lambda p: apply_discount(p, discount_percent), products)))\n"
      ],
      "metadata": {
        "colab": {
          "base_uri": "https://localhost:8080/"
        },
        "id": "9hY_RmDCWkCx",
        "outputId": "f744387e-980a-47ed-ef37-554f2650e2b4"
      },
      "execution_count": null,
      "outputs": [
        {
          "output_type": "stream",
          "name": "stdout",
          "text": [
            "[Product(name='Laptop', price=900.0), Product(name='Smartphone', price=450.0), Product(name='Headphones', price=135.0)]\n"
          ]
        }
      ]
    },
    {
      "cell_type": "markdown",
      "source": [
        "## Filter Exercises\n",
        "#### Exercise 1: Basic Usage of filter\n",
        "We can use lambda in the filter function to create a new list with only the even numbers, followed by printing the result."
      ],
      "metadata": {
        "id": "ZOT_rGq0XSLr"
      }
    },
    {
      "cell_type": "code",
      "source": [
        "# Create a list of numbers\n",
        "numbers = [1, 2, 3, 4, 5, 6]\n",
        "\n",
        "# Use the filter function to create a new list with only even numbers\n",
        "print(list(filter(lambda x: x % 2 == 0, numbers)))"
      ],
      "metadata": {
        "colab": {
          "base_uri": "https://localhost:8080/"
        },
        "id": "8NsIPPxkXSzq",
        "outputId": "0733b8d6-4298-4084-df86-af982e2c9116"
      },
      "execution_count": null,
      "outputs": [
        {
          "output_type": "stream",
          "name": "stdout",
          "text": [
            "[2, 4, 6]\n"
          ]
        }
      ]
    },
    {
      "cell_type": "markdown",
      "source": [
        "#### Exercise 2: Filtering with Named Tuples\n",
        "We define a named tuple Employee with fields name and department. The we create a list of Employee instances, and then further use the filter function to create a list of employees who belong to the \"Sales\" department."
      ],
      "metadata": {
        "id": "EAYeWwKpZYYV"
      }
    },
    {
      "cell_type": "code",
      "source": [
        "from collections import namedtuple\n",
        "\n",
        "# Define the namedtuple 'Employee'\n",
        "Employee = namedtuple('Employee', ['name', 'department'])\n",
        "\n",
        "# Create a list of Employee instances\n",
        "employees = [\n",
        "    Employee(name='Brandon', department='Sales'),\n",
        "    Employee(name='Charmaine', department='Marketing'),\n",
        "    Employee(name='Darren', department='Sales'),\n",
        "    Employee(name='Ethan', department='IT'),\n",
        "    Employee(name='Farah', department='HR')\n",
        "]\n",
        "\n",
        "# Use the filter function to create a list of employees who belong to the \"Sales\" department\n",
        "print(list(filter(lambda e: e.department == 'Sales', employees)))\n"
      ],
      "metadata": {
        "colab": {
          "base_uri": "https://localhost:8080/"
        },
        "id": "1FXPqwZfZnCX",
        "outputId": "ca6753a5-8b9f-462c-941c-87c09f23514b"
      },
      "execution_count": 3,
      "outputs": [
        {
          "output_type": "stream",
          "name": "stdout",
          "text": [
            "[Employee(name='Brandon', department='Sales'), Employee(name='Darren', department='Sales')]\n"
          ]
        }
      ]
    },
    {
      "cell_type": "markdown",
      "source": [
        "#### Exercise 3: Combining filter and Lambda Functions\n",
        "We create a list of named tuples representing products, each with fields name and price. Then, we use filter with a lambda function to create a list of products whose price is greater than $50."
      ],
      "metadata": {
        "id": "9uznTozzaAjY"
      }
    },
    {
      "cell_type": "code",
      "source": [
        "from collections import namedtuple\n",
        "\n",
        "# Define the namedtuple 'Product'\n",
        "Product = namedtuple('Product', ['name', 'price'])\n",
        "\n",
        "# Create a list of named tuples representing products\n",
        "products = [\n",
        "    Product(name='Laptop', price=1000),\n",
        "    Product(name='Smartphone', price=500),\n",
        "    Product(name='Headset', price=150),\n",
        "    Product(name='Mouse', price=25),\n",
        "    Product(name='Keyboard', price=45)\n",
        "]\n",
        "\n",
        "# Use filter with a lambda function to create a list of products whose price is greater than $50\n",
        "print(list(filter(lambda p: p.price > 50, products)))\n"
      ],
      "metadata": {
        "colab": {
          "base_uri": "https://localhost:8080/"
        },
        "id": "t6F-lNTnaFfM",
        "outputId": "14b88415-578f-49ff-9b9d-ea4c45206609"
      },
      "execution_count": null,
      "outputs": [
        {
          "output_type": "stream",
          "name": "stdout",
          "text": [
            "[Product(name='Laptop', price=1000), Product(name='Smartphone', price=500), Product(name='Headphones', price=150)]\n"
          ]
        }
      ]
    },
    {
      "cell_type": "markdown",
      "source": [
        "#### Exercise 4: Advanced Filtering\n",
        "First we create a named tuple Student with fields name, grade, and major, and created a list of Student instances. Then, we use filter to find students who have a grade above a certain threshold and are in a specific major."
      ],
      "metadata": {
        "id": "9DUF48ofadte"
      }
    },
    {
      "cell_type": "code",
      "source": [
        "from collections import namedtuple\n",
        "\n",
        "# Define the namedtuple 'Student'\n",
        "Student = namedtuple('Student', ['name', 'grade', 'major'])\n",
        "\n",
        "# Create a list of Student instances\n",
        "students = [\n",
        "    Student(name='Fathimah', grade=90, major='Computer Science'),\n",
        "    Student(name='Grace', grade=85, major='Mathematics'),\n",
        "    Student(name='Hui', grade=92, major='Computer Science'),\n",
        "    Student(name='Ishani', grade=78, major='Computer Science'),\n",
        "    Student(name='Jin', grade=88, major='Mathematics')\n",
        "]\n",
        "\n",
        "# Define the grade threshold and specific major\n",
        "grade_threshold = 85\n",
        "specific_major = 'Computer Science'\n",
        "\n",
        "# Use filter to find students who have a grade above the threshold and are in the specific major\n",
        "print(list(filter(lambda s: s.grade > grade_threshold and s.major == specific_major, students)))\n"
      ],
      "metadata": {
        "colab": {
          "base_uri": "https://localhost:8080/"
        },
        "id": "eVrD8WJ9ayct",
        "outputId": "a2608772-6927-4d2f-b19e-1ee117defd44"
      },
      "execution_count": 5,
      "outputs": [
        {
          "output_type": "stream",
          "name": "stdout",
          "text": [
            "[Student(name='Fathimah', grade=90, major='Computer Science'), Student(name='Hui', grade=92, major='Computer Science')]\n"
          ]
        }
      ]
    },
    {
      "cell_type": "markdown",
      "source": [
        "#### Exercise 5: Practical Application\n",
        "We define a named tuple Book with fields title, author, and genre, and created a list of Book instances. Then, we write a function to filter out books of a particular genre and by a specific author, using filter function."
      ],
      "metadata": {
        "id": "afaU5lKcbr5D"
      }
    },
    {
      "cell_type": "code",
      "source": [
        "from collections import namedtuple\n",
        "\n",
        "# Define the namedtuple 'Book'\n",
        "Book = namedtuple('Book', ['title', 'author', 'genre'])\n",
        "\n",
        "# Create a list of Book instances\n",
        "books = [\n",
        "    Book(title='The Argumentative Indian', author='Amartya Sen', genre='Non Fiction'),\n",
        "    Book(title='Maximum City: Bombay Lost and Found', author='Suketu Mehta', genre='Non Fiction'),\n",
        "    Book(title='Sapiens: A Brief History of Humankind', author='Yuval Noah Harari', genre='Anthropology'),\n",
        "    Book(title='Thinking, Fast and Slow', author='Daniel Kahneman', genre='Creativity'),\n",
        "    Book(title='Atomic Habits', author='James Clear', genre='NYTB')\n",
        "]\n",
        "\n",
        "# Function to filter out books of a particular genre and by a specific author\n",
        "def filter_books(books, specific_genre, specific_author):\n",
        "    return list(filter(lambda book: book.genre == specific_genre and book.author == specific_author, books))\n",
        "\n",
        "# Example usage: Filter out dystopian books by George Orwell\n",
        "print(filter_books(books, 'NYTB', 'James Clear'))\n"
      ],
      "metadata": {
        "colab": {
          "base_uri": "https://localhost:8080/"
        },
        "id": "1LUVfuEbbxq-",
        "outputId": "79947f60-9333-4359-d3ea-b75330b4304e"
      },
      "execution_count": null,
      "outputs": [
        {
          "output_type": "stream",
          "name": "stdout",
          "text": [
            "[Book(title='Atomic Habits', author='James Clear', genre='NYTB')]\n"
          ]
        }
      ]
    },
    {
      "cell_type": "markdown",
      "source": [
        "## Reduce Excercises\n",
        "#### Exercise 1: Basic Usage of reduce\n",
        "We first create a tuple of numbers and then use reduce to calculate the sum of these numbers using a lambda expression."
      ],
      "metadata": {
        "id": "2sYP8Hl9eu2H"
      }
    },
    {
      "cell_type": "code",
      "source": [
        "from functools import reduce\n",
        "\n",
        "# Create a tuple of numbers\n",
        "numbers = (1, 2, 3, 4, 5)\n",
        "\n",
        "# Use reduce to calculate the sum of these numbers and print\n",
        "print(reduce(lambda x, y: x + y, numbers))"
      ],
      "metadata": {
        "colab": {
          "base_uri": "https://localhost:8080/"
        },
        "id": "_MDSjloLfRAb",
        "outputId": "f74467cb-48b9-4c78-b131-7c3a5166fb8d"
      },
      "execution_count": null,
      "outputs": [
        {
          "output_type": "stream",
          "name": "stdout",
          "text": [
            "15\n"
          ]
        }
      ]
    },
    {
      "cell_type": "markdown",
      "source": [
        "#### Exercise 2: Finding Maximum with reduce\n",
        "We create a tuple of integers and then use reduce function with a lambda expression to find the maximum value."
      ],
      "metadata": {
        "id": "HjypWX8Hfieu"
      }
    },
    {
      "cell_type": "code",
      "source": [
        "from functools import reduce\n",
        "\n",
        "# Create a tuple of integers\n",
        "integers = (10, 30, 25, 60, 45, 20, 35)\n",
        "\n",
        "# Use reduce with a lambda function to find the maximum value in the tuple\n",
        "print(reduce(lambda x, y: x if x > y else y, integers))"
      ],
      "metadata": {
        "colab": {
          "base_uri": "https://localhost:8080/"
        },
        "id": "QnTuu73gfmi7",
        "outputId": "6f16380f-8c1b-418a-8950-3f615adfed0e"
      },
      "execution_count": null,
      "outputs": [
        {
          "output_type": "stream",
          "name": "stdout",
          "text": [
            "60\n"
          ]
        }
      ]
    },
    {
      "cell_type": "markdown",
      "source": [
        "#### Exercise 3: Concatenating Strings\n",
        "We create a tuple of strings using the phrases hinted. Then use reduce function with a lambda expression to concatenate."
      ],
      "metadata": {
        "id": "OCuEplY4gHzL"
      }
    },
    {
      "cell_type": "code",
      "source": [
        "from functools import reduce\n",
        "\n",
        "# Create a tuple of strings\n",
        "words = ('Hello', 'world', 'Python', 'is', 'awesome')\n",
        "\n",
        "# Use reduce to concatenate these strings into a single sentence\n",
        "print(reduce(lambda x, y: x + \" \" + y, words))"
      ],
      "metadata": {
        "colab": {
          "base_uri": "https://localhost:8080/"
        },
        "id": "1-AQxVIkgVM2",
        "outputId": "f32bbda0-0d71-4757-cb56-2f167015bf07"
      },
      "execution_count": null,
      "outputs": [
        {
          "output_type": "stream",
          "name": "stdout",
          "text": [
            "Hello world Python is awesome\n"
          ]
        }
      ]
    },
    {
      "cell_type": "markdown",
      "source": [
        "#### Exercise 4: Multiplying Elements\n",
        "We create a tuple of integers. Then use reduce function with a lambda expression with two arguments to multiply."
      ],
      "metadata": {
        "id": "Ia2szALLgyKZ"
      }
    },
    {
      "cell_type": "code",
      "source": [
        "from functools import reduce\n",
        "\n",
        "# Create a tuple containing a series of numbers\n",
        "numbers = (1, 2, 3, 4, 5)\n",
        "\n",
        "# Use reduce to multiply all the numbers in the tuple\n",
        "print(reduce(lambda x, y: x * y, numbers))"
      ],
      "metadata": {
        "colab": {
          "base_uri": "https://localhost:8080/"
        },
        "id": "iURmH8O9g6Q4",
        "outputId": "ae70121c-b161-4595-a1d6-83e1062e4995"
      },
      "execution_count": null,
      "outputs": [
        {
          "output_type": "stream",
          "name": "stdout",
          "text": [
            "120\n"
          ]
        }
      ]
    },
    {
      "cell_type": "markdown",
      "source": [
        "#### Exercise 5: Custom Reduce Operation\n",
        "Key step is to use zip() function. The zip() function returns a zip object, which is an iterator of tuples where the first item in each passed iterator is paired together, and then the second item in each passed iterator are paired together etc.\n",
        "\n",
        "So we create the tuple of tuples as hinted. Define sum of tuples function using add operator and zip function. Now we use reduce function, pass the function and tuple as arguments."
      ],
      "metadata": {
        "id": "nORmCrWghInP"
      }
    },
    {
      "cell_type": "code",
      "source": [
        "from functools import reduce\n",
        "\n",
        "# Create a tuple of tuples, each inner tuple contains a pair of numbers\n",
        "number_pairs = ((1, 2), (3, 4), (5, 6))\n",
        "\n",
        "# Define a function that takes two tuples as arguments and returns a new tuple with the sum of corresponding elements\n",
        "def sum_tuples(tup1, tup2):\n",
        "    return tuple(x + y for x, y in zip(tup1, tup2))\n",
        "\n",
        "# Use reduce to apply this function across the tuple of tuples\n",
        "print(reduce(sum_tuples, number_pairs))\n"
      ],
      "metadata": {
        "colab": {
          "base_uri": "https://localhost:8080/"
        },
        "id": "S0cAdHlGhVdK",
        "outputId": "f397e7d3-7aea-46a0-b281-f1c531fa96bd"
      },
      "execution_count": null,
      "outputs": [
        {
          "output_type": "stream",
          "name": "stdout",
          "text": [
            "(9, 12)\n"
          ]
        }
      ]
    }
  ]
}