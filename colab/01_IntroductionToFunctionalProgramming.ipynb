{
  "cells": [
    {
      "cell_type": "markdown",
      "metadata": {
        "colab_type": "text",
        "id": "view-in-github"
      },
      "source": [
        "<a href=\"https://colab.research.google.com/github/suriarasai/BEAD2024/blob/main/colab/01_IntroductionToFunctionalProgramming.ipynb\" target=\"_parent\"><img src=\"https://colab.research.google.com/assets/colab-badge.svg\" alt=\"Open In Colab\"/></a>"
      ]
    },
    {
      "cell_type": "markdown",
      "metadata": {
        "id": "KCP8MTyjwVao"
      },
      "source": [
        "# Functional Programming in Python\n",
        "A function is a block of code which only runs when it is called.\n",
        "You can pass data, known as parameters, into a function.\n",
        "A function can return data as a result."
      ]
    },
    {
      "cell_type": "markdown",
      "metadata": {
        "id": "nMCXOtFLad14"
      },
      "source": [
        "# Simple Function\n",
        "In Python a function is defined using the def keyword:"
      ]
    },
    {
      "cell_type": "code",
      "execution_count": 2,
      "metadata": {
        "colab": {
          "base_uri": "https://localhost:8080/"
        },
        "id": "KxFJUcOhX4g-",
        "outputId": "6ec11f0f-83d5-4661-cfc9-d8856754a05a"
      },
      "outputs": [
        {
          "name": "stdout",
          "output_type": "stream",
          "text": [
            "Hello World\n"
          ]
        }
      ],
      "source": [
        "def greet():\n",
        "  print(\"Hello World\")\n",
        "greet()"
      ]
    },
    {
      "cell_type": "markdown",
      "metadata": {
        "id": "3DecQiunxB9T"
      },
      "source": [
        "To call a function, use the function name followed by parenthesis. Information can be passed into functions as arguments. Arguments are specified after the function name, inside the parentheses. You can add as many arguments as you want, just separate them with a comma.\n",
        "\n",
        "The following example has a function with one argument (name).\n",
        "\n",
        "The terms parameter and argument can be used for the same thing: information that are passed into a function.  A parameter is the variable listed inside the parentheses in the function definition. An argument is the value that is sent to the function when it is called."
      ]
    },
    {
      "cell_type": "code",
      "execution_count": null,
      "metadata": {
        "colab": {
          "base_uri": "https://localhost:8080/"
        },
        "id": "0S6LWIsIYLDX",
        "outputId": "5a0e3dae-8196-40cb-8410-a27ea119fded"
      },
      "outputs": [
        {
          "name": "stdout",
          "output_type": "stream",
          "text": [
            "Hello Suria\n",
            "Hello Ravi\n",
            "Hello Vignesh\n"
          ]
        }
      ],
      "source": [
        "def greet(name):\n",
        "  print(f\"Hello {name}\")\n",
        "greet(\"Suria\")\n",
        "greet(\"Ravi\")\n",
        "greet(\"Vignesh\")"
      ]
    },
    {
      "cell_type": "markdown",
      "metadata": {
        "id": "Ou9DKnxdnsc7"
      },
      "source": [
        "One more example"
      ]
    },
    {
      "cell_type": "code",
      "execution_count": null,
      "metadata": {
        "colab": {
          "base_uri": "https://localhost:8080/"
        },
        "id": "MhsV6tb8nuDr",
        "outputId": "5f2f8f4b-3b96-4d63-a249-707af4f8c12b"
      },
      "outputs": [
        {
          "name": "stdout",
          "output_type": "stream",
          "text": [
            "314.1592653589793\n"
          ]
        }
      ],
      "source": [
        "import math\n",
        "def areaofcircle(radius):\n",
        "    return math.pi * radius * radius\n",
        "print(areaofcircle(10.0))\n"
      ]
    },
    {
      "cell_type": "markdown",
      "metadata": {
        "id": "jO6XoSe8UYya"
      },
      "source": [
        "One line function, there is a short called lambda"
      ]
    },
    {
      "cell_type": "code",
      "execution_count": null,
      "metadata": {
        "id": "KJqMSxKhxM3o"
      },
      "outputs": [],
      "source": [
        "v = lambda x: print(x)"
      ]
    },
    {
      "cell_type": "markdown",
      "metadata": {
        "id": "ri4MFZRUn66r"
      },
      "source": [
        "Rewriting area in functions:"
      ]
    },
    {
      "cell_type": "code",
      "execution_count": null,
      "metadata": {
        "colab": {
          "base_uri": "https://localhost:8080/"
        },
        "id": "xARROJ2ZoBeo",
        "outputId": "1e6a1696-f22f-4f42-ed8f-37e67b8a7fb9"
      },
      "outputs": [
        {
          "name": "stdout",
          "output_type": "stream",
          "text": [
            "314.1592653589793\n"
          ]
        }
      ],
      "source": [
        "import math\n",
        "circlearea = lambda radius : math.pi * radius * radius\n",
        "print(circlearea(10.0))\n"
      ]
    },
    {
      "cell_type": "markdown",
      "metadata": {
        "id": "SSqLCDVLoDP0"
      },
      "source": [
        "Rewriting greet with arguments:"
      ]
    },
    {
      "cell_type": "code",
      "execution_count": null,
      "metadata": {
        "colab": {
          "base_uri": "https://localhost:8080/"
        },
        "id": "9kIA1f42Y9BE",
        "outputId": "448419ed-ae23-41af-a1a3-f9af5b6698c8"
      },
      "outputs": [
        {
          "name": "stdout",
          "output_type": "stream",
          "text": [
            "Hello Suria\n"
          ]
        },
        {
          "data": {
            "text/plain": [
              "11"
            ]
          },
          "execution_count": 1,
          "metadata": {},
          "output_type": "execute_result"
        }
      ],
      "source": [
        "def greet(name):\n",
        "  return f\"Hello {name}\"\n",
        "result = greet(\"Suria\")\n",
        "print(result)\n",
        "# or even direct it to a file\n",
        "file = open(\"result.txt\", \"w\")\n",
        "file.write(result)"
      ]
    },
    {
      "cell_type": "markdown",
      "metadata": {
        "id": "OJrqeBGjxdje"
      },
      "source": [
        "If you do not know how many arguments that will be passed into your function, add a * before the parameter name in the function definition.\n",
        "\n",
        "This way the function will receive a tuple of arguments, and can access the items accordingly:"
      ]
    },
    {
      "cell_type": "code",
      "execution_count": null,
      "metadata": {
        "colab": {
          "base_uri": "https://localhost:8080/"
        },
        "id": "K3HxO_ZaxgNm",
        "outputId": "8c2542b5-7c79-465f-cc5d-c198d6031a9d"
      },
      "outputs": [
        {
          "name": "stdout",
          "output_type": "stream",
          "text": [
            "The youngest lecturer is Liu Fan\n"
          ]
        }
      ],
      "source": [
        "def my_function(*lecturer):\n",
        "  print(\"The youngest lecturer is \" + lecturer[2])\n",
        "my_function(\"Suria\", \"Venkat\", \"Liu Fan\")\n"
      ]
    },
    {
      "cell_type": "markdown",
      "metadata": {
        "id": "6lZ13iTtx1Vh"
      },
      "source": [
        "If the number of keyword arguments is unknown, add a double ** before the parameter name:"
      ]
    },
    {
      "cell_type": "code",
      "execution_count": null,
      "metadata": {
        "colab": {
          "base_uri": "https://localhost:8080/"
        },
        "id": "iwqR9LzIxYuQ",
        "outputId": "612c9d52-28b1-4cf9-94df-1cc312c9086e"
      },
      "outputs": [
        {
          "name": "stdout",
          "output_type": "stream",
          "text": [
            "His last name is Ravindran\n"
          ]
        }
      ],
      "source": [
        "def my_new_function(**lecturer):\n",
        "  print(\"Her last name is \" + lecturer[\"lname\"])\n",
        "my_new_function(fname = \"Suria\", lname = \"Ravindran\")"
      ]
    },
    {
      "cell_type": "markdown",
      "metadata": {
        "id": "sOosGQCtodTb"
      },
      "source": [
        "Works for all data types:"
      ]
    },
    {
      "cell_type": "code",
      "execution_count": null,
      "metadata": {
        "colab": {
          "base_uri": "https://localhost:8080/"
        },
        "id": "WRKEzS2nof9Z",
        "outputId": "d2e6ab36-8eec-4e8c-a144-c27bfce47a77"
      },
      "outputs": [
        {
          "name": "stdout",
          "output_type": "stream",
          "text": [
            "17\n"
          ]
        }
      ],
      "source": [
        "def f(x):\n",
        "  return 5 * x + 2\n",
        "print(f(3))\n"
      ]
    },
    {
      "cell_type": "markdown",
      "metadata": {
        "id": "rSys_bw0okdH"
      },
      "source": [
        "# *Imperative* vs *Declarative* Style\n",
        "Imperative code follows a step-by-step process. In the first iteration, we add 1 to the initial total (0) to get the new total (1). Then the loop runs again, adding the next number in our list to 1 to get the new total (3). And so on."
      ]
    },
    {
      "cell_type": "code",
      "execution_count": null,
      "metadata": {
        "colab": {
          "base_uri": "https://localhost:8080/"
        },
        "id": "tbN2F4W6ouEg",
        "outputId": "89730f8e-d394-494b-d1d9-21405d004029"
      },
      "outputs": [
        {
          "name": "stdout",
          "output_type": "stream",
          "text": [
            "15\n"
          ]
        }
      ],
      "source": [
        "# Calculate total in the list\n",
        "total = 0\n",
        "myList = [1,2,3,4,5]\n",
        "\n",
        "# Create a for loop to add numbers in the list to the total\n",
        "for x in myList:\n",
        "     total += x\n",
        "print(total)"
      ]
    },
    {
      "cell_type": "markdown",
      "metadata": {
        "id": "zVh3PagfpIHl"
      },
      "source": [
        "Declarative style creates code structure that is more concise. It creates less external states. Instead of using a loop to iterate over our entire list, we’ve used the sum() method, which works."
      ]
    },
    {
      "cell_type": "code",
      "execution_count": null,
      "metadata": {
        "colab": {
          "base_uri": "https://localhost:8080/"
        },
        "id": "eVnLvBuNpMD3",
        "outputId": "6219ac4a-3183-4d27-acfd-034b4e7f3db5"
      },
      "outputs": [
        {
          "name": "stdout",
          "output_type": "stream",
          "text": [
            "15\n"
          ]
        }
      ],
      "source": [
        "mylist = [1,2,3,4,5]\n",
        "\n",
        "# set total to the sum of numbers in mylist\n",
        "total = sum(mylist)\n",
        "print(total)"
      ]
    },
    {
      "cell_type": "markdown",
      "metadata": {
        "id": "9GGq2ZxppjVP"
      },
      "source": [
        "# Pure Functions\n",
        "Pure functions are a key concept in functional programming. A function is considered pure if it always returns the same output for the same set of inputs and does not produce side effects like modifying the input or any data outside of the function."
      ]
    },
    {
      "cell_type": "code",
      "execution_count": null,
      "metadata": {
        "id": "3lH6hWjgpoPA"
      },
      "outputs": [],
      "source": [
        "def add(a, b):\n",
        "    return a + b\n",
        "\n",
        "def to_uppercase(string):\n",
        "    return string.upper()\n"
      ]
    },
    {
      "cell_type": "code",
      "execution_count": null,
      "metadata": {
        "colab": {
          "base_uri": "https://localhost:8080/"
        },
        "id": "jqpIt8mpp8r9",
        "outputId": "720ad53f-4a22-4f21-c399-972706376a2b"
      },
      "outputs": [
        {
          "name": "stdout",
          "output_type": "stream",
          "text": [
            "HELLO MARS!\n"
          ]
        }
      ],
      "source": [
        "print(to_uppercase(\"Hello Mars!\"))"
      ]
    },
    {
      "cell_type": "markdown",
      "metadata": {
        "id": "Jn1_OfS_yXiP"
      },
      "source": [
        "Python also accepts **function recursion**, which means a defined function can call itself.\n",
        "\n",
        "In this example, tri_recursion() is a function that we have defined to call itself (\"recurse\"). We use the k variable as the data, which decrements (-1) every time we recurse. The recursion ends when the condition is not greater than 0 (i.e. when it is 0)."
      ]
    },
    {
      "cell_type": "code",
      "execution_count": null,
      "metadata": {
        "id": "OHaFLEggp4jv"
      },
      "outputs": [],
      "source": [
        "def factorial(n):\n",
        "    if n == 0:\n",
        "        return 1\n",
        "    else:\n",
        "        return n * factorial(n - 1)\n"
      ]
    },
    {
      "cell_type": "code",
      "execution_count": null,
      "metadata": {
        "colab": {
          "base_uri": "https://localhost:8080/"
        },
        "id": "F6p_rRp-qTch",
        "outputId": "07efefbd-88b8-4a07-e683-76bf5e5e99cc"
      },
      "outputs": [
        {
          "data": {
            "text/plain": [
              "120"
            ]
          },
          "execution_count": 14,
          "metadata": {},
          "output_type": "execute_result"
        }
      ],
      "source": [
        "factorial(5)"
      ]
    },
    {
      "cell_type": "markdown",
      "metadata": {
        "id": "nV1otLvSacYp"
      },
      "source": [
        "# Sample Data Set\n",
        "Let us have some data structures to play with.\n",
        "\n",
        "Curly Braces {}:\n",
        "\n",
        "* Dictionaries: They are used to define dictionaries. A dictionary in Python is a collection of key-value pairs. For example: my_dict = {'name': 'Alice', 'age': 30}\n",
        "* Sets: They are also used to create sets, which are collections of unique elements. For example: my_set = {1, 2, 3}\n",
        "\n",
        "Square Brackets []:\n",
        "\n",
        "* Lists: Square brackets are used to define lists, which are ordered collections of items. For example: my_list = [1, 2, 3]\n",
        "* Indexing and Slicing: They are also used for indexing and slicing strings, lists, and other sequence types.\n",
        "\n",
        "Parentheses ():\n",
        "\n",
        "* Tuples: Parentheses are used to create tuples, which are similar to lists but immutable (cannot be changed). For example: my_tuple = (1, 2, 3)\n",
        "* Function Definition and Calls: They are used in the definition and invocation of functions. For example, defining a function: def my_function():, and calling a function: my_function()\n",
        "* Order of Operations: In Python expressions, parentheses are used to dictate the order of operations, similar to their use in mathematics.\n",
        "* Generator Expressions: They can also be used for generator expressions. For example: (x**2 for x in range(10))"
      ]
    },
    {
      "cell_type": "code",
      "execution_count": 3,
      "metadata": {
        "id": "XKkD_iY7bs2X"
      },
      "outputs": [],
      "source": [
        "# List of Dictionary\n",
        "# Mutable data structure\n",
        "scientist = [\n",
        "    {'name':'Albert Einstein', 'born':1879, 'field':'physics'},\n",
        "    {'name':'Marie Curie', 'born':1867, 'field':'chemistry'},\n",
        "    {'name':'Isaac Newton', 'born':1642, 'field':'mathematics'},\n",
        "    {'name':'Nikola Testla', 'born':1856, 'field':'electrical'},\n",
        "    {'name':'Galileo Galilei', 'born':1609, 'field':'mathematics'},\n",
        "    {'name':'Ada Lovelace', 'born':1815, 'field':'computer'}\n",
        "]\n"
      ]
    },
    {
      "cell_type": "code",
      "execution_count": 4,
      "metadata": {
        "colab": {
          "base_uri": "https://localhost:8080/"
        },
        "id": "V-BmRfb5bx5H",
        "outputId": "2e67c0b1-7162-4fa2-c628-28da0922e10e"
      },
      "outputs": [
        {
          "data": {
            "text/plain": [
              "[{'name': 'Albert Einstein', 'born': 1879, 'field': 'physics'},\n",
              " {'name': 'Marie Curie', 'born': 1867, 'field': 'chemistry'},\n",
              " {'name': 'Isaac Newton', 'born': 1642, 'field': 'mathematics'},\n",
              " {'name': 'Nikola Testla', 'born': 1856, 'field': 'electrical'},\n",
              " {'name': 'Galileo Galilei', 'born': 1609, 'field': 'mathematics'},\n",
              " {'name': 'Ada Lovelace', 'born': 1815, 'field': 'computer'}]"
            ]
          },
          "execution_count": 4,
          "metadata": {},
          "output_type": "execute_result"
        }
      ],
      "source": [
        "scientist\n",
        "# scientist[0]="
      ]
    },
    {
      "cell_type": "code",
      "execution_count": 5,
      "metadata": {
        "id": "zKtZJsJeeg0X"
      },
      "outputs": [],
      "source": [
        "import collections\n",
        "Scientist = collections.namedtuple('Scientist', ['name','born','field', 'nobel'])\n",
        "# Tuples\n",
        "scientists = (\n",
        "   Scientist(name='Albert Einstein',born=1879,field='physics', nobel=True),\n",
        "   Scientist(name='Marie Curie',born=1867,field='chemistry',nobel=True),\n",
        "   Scientist(name='Isaac Newton',born=1642,field='mathematics', nobel=False),\n",
        "   Scientist(name='Nikola Testla',born=1856,field='electrical', nobel=False),\n",
        "   Scientist(name='Galileo Galilei',born=1609,field='mathematics', nobel=False),\n",
        "   Scientist(name='Ada Lovelace',born=1815,field='computer', nobel=False)\n",
        ")\n"
      ]
    },
    {
      "cell_type": "code",
      "execution_count": 6,
      "metadata": {
        "colab": {
          "base_uri": "https://localhost:8080/"
        },
        "id": "Hsq242zrtSGr",
        "outputId": "d156e91b-7c6f-41fb-a36e-5ae83ab14472"
      },
      "outputs": [
        {
          "name": "stdout",
          "output_type": "stream",
          "text": [
            "(Scientist(name='Albert Einstein', born=1879, field='physics', nobel=True), Scientist(name='Marie Curie', born=1867, field='chemistry', nobel=True), Scientist(name='Isaac Newton', born=1642, field='mathematics', nobel=False), Scientist(name='Nikola Testla', born=1856, field='electrical', nobel=False), Scientist(name='Galileo Galilei', born=1609, field='mathematics', nobel=False), Scientist(name='Ada Lovelace', born=1815, field='computer', nobel=False))\n"
          ]
        }
      ],
      "source": [
        "print(scientists)"
      ]
    },
    {
      "cell_type": "markdown",
      "metadata": {
        "id": "gnGBHVKxqYws"
      },
      "source": [
        "Frozen Set is immutable too.\n"
      ]
    },
    {
      "cell_type": "code",
      "execution_count": 7,
      "metadata": {
        "colab": {
          "base_uri": "https://localhost:8080/"
        },
        "id": "dAoqNwMFrXQ_",
        "outputId": "2afa8e0b-7ea0-4d19-cc4a-ea5723643886"
      },
      "outputs": [
        {
          "name": "stdout",
          "output_type": "stream",
          "text": [
            "True\n"
          ]
        }
      ],
      "source": [
        "def check_membership(frozen_set, element):\n",
        "    return element in frozen_set\n",
        "\n",
        "my_frozen_set = frozenset([1, 2, 3, 4])\n",
        "print(check_membership(my_frozen_set, 3)) # Output: True\n"
      ]
    },
    {
      "cell_type": "markdown",
      "metadata": {
        "id": "IFWfbIpftk1U"
      },
      "source": [
        "# Filter Function\n",
        "The filter() function returns an iterator where the items are filtered through a function to test if the item is accepted or not.\n",
        "filter(function, iterable)"
      ]
    },
    {
      "cell_type": "code",
      "execution_count": 8,
      "metadata": {
        "colab": {
          "base_uri": "https://localhost:8080/"
        },
        "id": "HKgQv2lMtnEf",
        "outputId": "59a23767-8e25-4461-af06-2c2c74eff36f"
      },
      "outputs": [
        {
          "data": {
            "text/plain": [
              "(Scientist(name='Albert Einstein', born=1879, field='physics', nobel=True),\n",
              " Scientist(name='Marie Curie', born=1867, field='chemistry', nobel=True))"
            ]
          },
          "execution_count": 8,
          "metadata": {},
          "output_type": "execute_result"
        }
      ],
      "source": [
        "#filter(lambda x: x.nobel is True, scientists)\n",
        "tuple(filter(lambda x: x.nobel is True, scientists))"
      ]
    },
    {
      "cell_type": "code",
      "execution_count": 9,
      "metadata": {
        "colab": {
          "base_uri": "https://localhost:8080/"
        },
        "id": "KyHeThf2vMGI",
        "outputId": "e05e5bda-608f-48b6-a24c-7b9c924b36b3"
      },
      "outputs": [
        {
          "data": {
            "text/plain": [
              "(Scientist(name='Albert Einstein', born=1879, field='physics', nobel=True),\n",
              " Scientist(name='Marie Curie', born=1867, field='chemistry', nobel=True),\n",
              " Scientist(name='Isaac Newton', born=1642, field='mathematics', nobel=False),\n",
              " Scientist(name='Nikola Testla', born=1856, field='electrical', nobel=False),\n",
              " Scientist(name='Galileo Galilei', born=1609, field='mathematics', nobel=False),\n",
              " Scientist(name='Ada Lovelace', born=1815, field='computer', nobel=False))"
            ]
          },
          "execution_count": 9,
          "metadata": {},
          "output_type": "execute_result"
        }
      ],
      "source": [
        "tuple(filter(lambda x: True, scientists))"
      ]
    },
    {
      "cell_type": "code",
      "execution_count": 10,
      "metadata": {
        "colab": {
          "base_uri": "https://localhost:8080/"
        },
        "id": "h0nUPb0RvTgb",
        "outputId": "b551d156-eff1-4322-addd-63c263c6a039"
      },
      "outputs": [
        {
          "data": {
            "text/plain": [
              "(Scientist(name='Isaac Newton', born=1642, field='mathematics', nobel=False),\n",
              " Scientist(name='Galileo Galilei', born=1609, field='mathematics', nobel=False))"
            ]
          },
          "execution_count": 10,
          "metadata": {},
          "output_type": "execute_result"
        }
      ],
      "source": [
        "tuple(filter(lambda x: x.field =='mathematics', scientists))"
      ]
    },
    {
      "cell_type": "code",
      "execution_count": 11,
      "metadata": {
        "colab": {
          "base_uri": "https://localhost:8080/"
        },
        "id": "NjYtROFgvaTl",
        "outputId": "b9335815-f5c6-4644-8b33-ca756ff15150"
      },
      "outputs": [
        {
          "data": {
            "text/plain": [
              "(Scientist(name='Albert Einstein', born=1879, field='physics', nobel=True),)"
            ]
          },
          "execution_count": 11,
          "metadata": {},
          "output_type": "execute_result"
        }
      ],
      "source": [
        "tuple(filter(lambda x: x.field =='physics' and x.nobel is True, scientists))"
      ]
    },
    {
      "cell_type": "code",
      "execution_count": 12,
      "metadata": {
        "colab": {
          "base_uri": "https://localhost:8080/"
        },
        "id": "iTHg1EAyvz4U",
        "outputId": "b4ee26d2-1236-406f-cd87-335a4a9e726a"
      },
      "outputs": [
        {
          "data": {
            "text/plain": [
              "(Scientist(name='Albert Einstein', born=1879, field='physics', nobel=True),\n",
              " Scientist(name='Marie Curie', born=1867, field='chemistry', nobel=True))"
            ]
          },
          "execution_count": 12,
          "metadata": {},
          "output_type": "execute_result"
        }
      ],
      "source": [
        "def nobel_filter(x):\n",
        "   return x.nobel is True\n",
        "tuple(filter(nobel_filter, scientists))"
      ]
    },
    {
      "cell_type": "markdown",
      "metadata": {
        "id": "2lbi-ofqzCDH"
      },
      "source": [
        "# Map Function\n",
        "The map() function executes a specified function for each item in an iterable. The item is sent to the function as a parameter.\n",
        "map(function, iterables)"
      ]
    },
    {
      "cell_type": "code",
      "execution_count": 13,
      "metadata": {
        "colab": {
          "base_uri": "https://localhost:8080/"
        },
        "id": "Dl0RyFrOwIyM",
        "outputId": "d3bfb5a3-52da-47e0-dd84-c9d531a71907"
      },
      "outputs": [
        {
          "name": "stdout",
          "output_type": "stream",
          "text": [
            "(Scientist(name='Albert Einstein', born=1879, field='physics', nobel=True), Scientist(name='Marie Curie', born=1867, field='chemistry', nobel=True), Scientist(name='Isaac Newton', born=1642, field='mathematics', nobel=False), Scientist(name='Nikola Testla', born=1856, field='electrical', nobel=False), Scientist(name='Galileo Galilei', born=1609, field='mathematics', nobel=False), Scientist(name='Ada Lovelace', born=1815, field='computer', nobel=False))\n"
          ]
        }
      ],
      "source": [
        "print(scientists)"
      ]
    },
    {
      "cell_type": "code",
      "execution_count": null,
      "metadata": {
        "colab": {
          "base_uri": "https://localhost:8080/"
        },
        "id": "sdFbpolG3lIz",
        "outputId": "2ecbcd7c-bfb6-44b3-b845-9abf34c85bc7"
      },
      "outputs": [
        {
          "name": "stdout",
          "output_type": "stream",
          "text": [
            "({'name': 'Albert Einstein', 'age': 145}, {'name': 'Marie Curie', 'age': 157}, {'name': 'Isaac Newton', 'age': 382}, {'name': 'Nikola Testla', 'age': 168}, {'name': 'Galileo Galilei', 'age': 415}, {'name': 'Ada Lovelace', 'age': 209})\n"
          ]
        }
      ],
      "source": [
        "name_and_ages = tuple(map(lambda x: {'name':x.name, 'age':2024 -x.born}, scientists))\n",
        "print(name_and_ages)"
      ]
    },
    {
      "cell_type": "code",
      "execution_count": null,
      "metadata": {
        "colab": {
          "base_uri": "https://localhost:8080/"
        },
        "id": "qzvMatub4uz8",
        "outputId": "b41891ab-2671-4888-b5a6-cefe3933a7b7"
      },
      "outputs": [
        {
          "data": {
            "text/plain": [
              "({'name': 'Albert Einstein', 'age': 144},\n",
              " {'name': 'Marie Curie', 'age': 156},\n",
              " {'name': 'Isaac Newton', 'age': 381},\n",
              " {'name': 'Nikola Testla', 'age': 167},\n",
              " {'name': 'Galileo Galilei', 'age': 414},\n",
              " {'name': 'Ada Lovelace', 'age': 208})"
            ]
          },
          "execution_count": 18,
          "metadata": {},
          "output_type": "execute_result"
        }
      ],
      "source": [
        "tuple({'name':x.name, 'age':2023 -x.born} for x in scientists)"
      ]
    },
    {
      "cell_type": "code",
      "execution_count": null,
      "metadata": {
        "colab": {
          "base_uri": "https://localhost:8080/"
        },
        "id": "NadePuGv46uN",
        "outputId": "be3fec82-9782-4fa9-91d3-0e005efcbf6b"
      },
      "outputs": [
        {
          "data": {
            "text/plain": [
              "({'name': 'ALBERT EINSTEIN', 'age': 144},\n",
              " {'name': 'MARIE CURIE', 'age': 156},\n",
              " {'name': 'ISAAC NEWTON', 'age': 381},\n",
              " {'name': 'NIKOLA TESTLA', 'age': 167},\n",
              " {'name': 'GALILEO GALILEI', 'age': 414},\n",
              " {'name': 'ADA LOVELACE', 'age': 208})"
            ]
          },
          "execution_count": 19,
          "metadata": {},
          "output_type": "execute_result"
        }
      ],
      "source": [
        "tuple({'name':x.name.upper(), 'age':2023 -x.born} for x in scientists)"
      ]
    },
    {
      "cell_type": "code",
      "execution_count": null,
      "metadata": {
        "colab": {
          "base_uri": "https://localhost:8080/"
        },
        "id": "otYsewr1rz93",
        "outputId": "767e049e-1e6b-4904-a8ed-e127af15e45f"
      },
      "outputs": [
        {
          "name": "stdout",
          "output_type": "stream",
          "text": [
            "[1, 4, 9, 16, 25]\n"
          ]
        }
      ],
      "source": [
        "def square(number):\n",
        "     return number ** 2\n",
        "numbers = [1, 2, 3, 4, 5]\n",
        "squared = map(square, numbers)\n",
        "print(list(squared))\n",
        "# Output [1, 4, 9, 16, 25]\n"
      ]
    },
    {
      "cell_type": "markdown",
      "metadata": {
        "id": "uVY2a41R54N6"
      },
      "source": [
        "# Reduce Function\n",
        "\n",
        "Python’s reduce() is a function that implements a mathematical technique called folding or reduction. reduce() is useful when you need to apply a function to an iterable and reduce it to a single cumulative value.\n",
        "\n",
        "The reduce(fun,seq) function is used to apply a particular function passed in its argument to all of the list elements mentioned in the sequence passed along.This function is defined in “functools” module."
      ]
    },
    {
      "cell_type": "code",
      "execution_count": null,
      "metadata": {
        "colab": {
          "base_uri": "https://localhost:8080/"
        },
        "id": "DlnlParCsCS4",
        "outputId": "3b165168-2d94-440b-b6c0-b36793dcd32a"
      },
      "outputs": [
        {
          "name": "stdout",
          "output_type": "stream",
          "text": [
            "210\n"
          ]
        }
      ],
      "source": [
        "from functools import reduce\n",
        "# calculates the product of two elements\n",
        "def product(x,y):\n",
        "    return x*y\n",
        "print(reduce(product, [2, 5, 3, 7]))\n",
        "# Output 210\n"
      ]
    },
    {
      "cell_type": "code",
      "execution_count": null,
      "metadata": {
        "colab": {
          "base_uri": "https://localhost:8080/"
        },
        "id": "NKgPpqB46AP9",
        "outputId": "47222fab-2bb2-4521-9e0e-7f599f586513"
      },
      "outputs": [
        {
          "name": "stdout",
          "output_type": "stream",
          "text": [
            "({'name': 'Albert Einstein', 'age': 144}, {'name': 'Marie Curie', 'age': 156}, {'name': 'Isaac Newton', 'age': 381}, {'name': 'Nikola Testla', 'age': 167}, {'name': 'Galileo Galilei', 'age': 414}, {'name': 'Ada Lovelace', 'age': 208})\n",
            "1470\n"
          ]
        }
      ],
      "source": [
        "print(name_and_ages)\n",
        "from functools import reduce\n",
        "total_age = reduce ( lambda acc, val: acc + val['age'], name_and_ages, 0)\n",
        "print(total_age)"
      ]
    },
    {
      "cell_type": "code",
      "execution_count": null,
      "metadata": {
        "colab": {
          "base_uri": "https://localhost:8080/"
        },
        "id": "LgLDqqIT7THp",
        "outputId": "1a9d120c-b06b-4904-9f8e-e208212f634d"
      },
      "outputs": [
        {
          "name": "stdout",
          "output_type": "stream",
          "text": [
            "{'physics': ['Albert Einstein'], 'chemistry': ['Marie Curie'], 'mathematics': ['Isaac Newton', 'Galileo Galilei'], 'electrical': ['Nikola Testla'], 'computer': ['Ada Lovelace']}\n"
          ]
        }
      ],
      "source": [
        "def reducer(acc, val):\n",
        "  acc[val.field].append(val.name)\n",
        "  return acc\n",
        "scientist_by_field = reduce(reducer, scientists,\n",
        "                            {'physics' : [],'chemistry' : [],'mathematics' : [],'electrical' : [],'computer' : []} )\n",
        "print(scientist_by_field)"
      ]
    },
    {
      "cell_type": "markdown",
      "metadata": {
        "id": "Wsj7E7PI70kg"
      },
      "source": [
        "Alternative is to use library function defaultdict()"
      ]
    },
    {
      "cell_type": "code",
      "execution_count": null,
      "metadata": {
        "colab": {
          "base_uri": "https://localhost:8080/"
        },
        "id": "xt4kgK-v6uCH",
        "outputId": "c9c06fbe-1e4c-4467-a6fd-c247b9615d32"
      },
      "outputs": [
        {
          "name": "stdout",
          "output_type": "stream",
          "text": [
            "defaultdict(<class 'list'>, {'physics': ['Albert Einstein'], 'chemistry': ['Marie Curie'], 'mathematics': ['Isaac Newton', 'Galileo Galilei'], 'electrical': ['Nikola Testla'], 'computer': ['Ada Lovelace']})\n"
          ]
        }
      ],
      "source": [
        "def reducer(acc, val):\n",
        "  acc[val.field].append(val.name)\n",
        "  return acc\n",
        "scientist_by_field = reduce(reducer, scientists, collections.defaultdict(list))\n",
        "print(scientist_by_field)"
      ]
    },
    {
      "cell_type": "markdown",
      "metadata": {
        "id": "Ayy7AOVY8Uod"
      },
      "source": [
        "There is also help from itertools library."
      ]
    },
    {
      "cell_type": "code",
      "execution_count": null,
      "metadata": {
        "colab": {
          "base_uri": "https://localhost:8080/"
        },
        "id": "Ur9hxCAJ8X7q",
        "outputId": "c0f9e74f-c191-444d-976d-8507c332c2e4"
      },
      "outputs": [
        {
          "name": "stdout",
          "output_type": "stream",
          "text": [
            "{'physics': [Scientist(name='Albert Einstein', born=1879, field='physics', nobel=True)], 'chemistry': [Scientist(name='Marie Curie', born=1867, field='chemistry', nobel=True)], 'mathematics': [Scientist(name='Galileo Galilei', born=1609, field='mathematics', nobel=False)], 'electrical': [Scientist(name='Nikola Testla', born=1856, field='electrical', nobel=False)], 'computer': [Scientist(name='Ada Lovelace', born=1815, field='computer', nobel=False)]}\n"
          ]
        }
      ],
      "source": [
        "import itertools\n",
        "scientist_by_field_iter = {\n",
        "    item[0]: list(item[1])\n",
        "    for item in itertools.groupby(scientists, lambda x: x.field)\n",
        "}\n",
        "print(scientist_by_field_iter)"
      ]
    },
    {
      "cell_type": "markdown",
      "metadata": {
        "id": "D-gzvlcmsZix"
      },
      "source": [
        "# Functional Closure\n",
        "A closure is a technique where a function \"remembers\" the environment in which it was created."
      ]
    },
    {
      "cell_type": "code",
      "execution_count": null,
      "metadata": {
        "id": "M9SWE0eJscIZ"
      },
      "outputs": [],
      "source": [
        "def power_generator(n):\n",
        "    def nth_power(x):\n",
        "        return x ** n\n",
        "    return nth_power\n",
        "square = power_generator(2)\n",
        "cube = power_generator(3)\n",
        "\n",
        "print(square(4))  # Output: 16\n",
        "print(cube(4))   # Output: 64\n"
      ]
    },
    {
      "cell_type": "markdown",
      "metadata": {
        "id": "uqyg9-lasjaj"
      },
      "source": [
        "# Decorator\n",
        "This is simlar to OOP Annotations we discussed."
      ]
    },
    {
      "cell_type": "code",
      "execution_count": null,
      "metadata": {
        "colab": {
          "base_uri": "https://localhost:8080/"
        },
        "id": "rui0qw5HshTk",
        "outputId": "be21166d-2fb3-49c2-d91b-88508a866130"
      },
      "outputs": [
        {
          "name": "stdout",
          "output_type": "stream",
          "text": [
            "slow_function took 2.0050292015075684 seconds\n"
          ]
        }
      ],
      "source": [
        "# Decorator \n",
        "# Decorators are a way to modify or enhance functions or methods without changing their code. They are often used for logging, access control, caching, and more.\n",
        "\n",
        "import time\n",
        "\n",
        "def timer(func):\n",
        "    def wrapper(*args, **kwargs):\n",
        "        start = time.time()\n",
        "        result = func(*args, **kwargs)\n",
        "        end = time.time()\n",
        "        print(f\"{func.__name__} took {end - start} seconds\")\n",
        "        return result\n",
        "    return wrapper\n",
        "\n",
        "@timer\n",
        "def slow_function():\n",
        "    time.sleep(2)\n",
        "\n",
        "slow_function()  # Output: slow_function took 2.0001144409179688 seconds\n"
      ]
    },
    {
      "cell_type": "markdown",
      "metadata": {
        "id": "aqUt1BBDstN8"
      },
      "source": [
        "# Functional Composition\n",
        "Functional composition is the act of combining simple functions to build more complicated ones.\n",
        "This compositional approach promotes code reuse, modularity, and readability.\n"
      ]
    },
    {
      "cell_type": "code",
      "execution_count": null,
      "metadata": {
        "id": "bNQnhbuks2kk"
      },
      "outputs": [],
      "source": [
        "def compose(f, g):\n",
        "    return lambda x: f(g(x))\n",
        "\n",
        "def add_five(x):\n",
        "    return x + 5\n",
        "\n",
        "def multiply_by_three(x):\n",
        "    return x * 3\n",
        "\n",
        "# (5 * 3) + 5\n",
        "combined_function = compose(add_five, multiply_by_three)\n",
        "print(combined_function(5))  # Output: 20\n"
      ]
    },
    {
      "cell_type": "markdown",
      "metadata": {
        "id": "Jej0Bbpas3e1"
      },
      "source": [
        "# Functional Currying\n",
        "Currying is the technique of transforming a function that takes multiple arguments into a sequence of functions that each take a single argument."
      ]
    },
    {
      "cell_type": "code",
      "execution_count": null,
      "metadata": {
        "colab": {
          "base_uri": "https://localhost:8080/"
        },
        "id": "sla3WxHSs_Ce",
        "outputId": "41078fdd-d8f2-4d5e-937e-be14fc15eef3"
      },
      "outputs": [
        {
          "name": "stdout",
          "output_type": "stream",
          "text": [
            "10\n"
          ]
        }
      ],
      "source": [
        "from functools import partial\n",
        "\n",
        "def multiply(x, y):\n",
        "    return x * y\n",
        "\n",
        "# Create a new function that multiplies by 2\n",
        "double = partial(multiply, 2)\n",
        "\n",
        "print(double(5))  # Output: 10\n"
      ]
    },
    {
      "cell_type": "markdown",
      "metadata": {
        "id": "zljbNIkHtDvJ"
      },
      "source": [
        "Each of these examples demonstrates an advanced functional programming technique in Python. These techniques enable writing more modular, concise, and reusable code, which is particularly useful in large and complex software projects."
      ]
    },
    {
      "cell_type": "markdown",
      "metadata": {
        "id": "iunVSCCStFYn"
      },
      "source": [
        "These examples should give us a good understanding of functions work in Python.\n",
        "\n",
        "Thanks for the patient listening.\n",
        "\n",
        "Please try the subsequent workshops and have fun with generator and iterator libraries.\n",
        "\n",
        "End of demonstration. 🙏\n",
        "\n"
      ]
    }
  ],
  "metadata": {
    "colab": {
      "authorship_tag": "ABX9TyNuaQsKRWOLzSZc7gN6u/h+",
      "include_colab_link": true,
      "provenance": []
    },
    "kernelspec": {
      "display_name": ".venv",
      "language": "python",
      "name": "python3"
    },
    "language_info": {
      "codemirror_mode": {
        "name": "ipython",
        "version": 3
      },
      "file_extension": ".py",
      "mimetype": "text/x-python",
      "name": "python",
      "nbconvert_exporter": "python",
      "pygments_lexer": "ipython3",
      "version": "3.13.3"
    }
  },
  "nbformat": 4,
  "nbformat_minor": 0
}
