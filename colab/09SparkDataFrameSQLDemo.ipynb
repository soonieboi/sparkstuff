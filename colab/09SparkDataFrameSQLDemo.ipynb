{
  "nbformat": 4,
  "nbformat_minor": 0,
  "metadata": {
    "colab": {
      "provenance": [],
      "include_colab_link": true
    },
    "kernelspec": {
      "name": "python3",
      "display_name": "Python 3"
    },
    "language_info": {
      "name": "python"
    }
  },
  "cells": [
    {
      "cell_type": "markdown",
      "metadata": {
        "id": "view-in-github",
        "colab_type": "text"
      },
      "source": [
        "<a href=\"https://colab.research.google.com/github/soonieboi/sparkstuff/blob/main/colab/09SparkDataFrameSQLDemo.ipynb\" target=\"_parent\"><img src=\"https://colab.research.google.com/assets/colab-badge.svg\" alt=\"Open In Colab\"/></a>"
      ]
    },
    {
      "cell_type": "markdown",
      "source": [
        "#PYSPARK SQL and DataFrame\n",
        "The goal of this tutorial is to train you on how to create data access classes using the Spark to retrieve data from a NoSQL data source.\n",
        "##Rebu Taxi Case Study:\n",
        "The Rebu Taxi Case Study introduced in the IADD course is used here for performing some Spark Query and Analytics. For this workshop four data stores are provided viz., Driver Data, Passenger Data, Taxi Data and Trip Data. The next section lists the filenames for these, three of which are in CSV format and the fourth in JSON format. For further consolidation of the learning, a set of exercises are provided based on Rebu Taxi Booking Case study, which the student should complete to attain the required learning outcome.\n",
        "\n",
        "For demonstration purposes and workshop practice we provide the following files containing the data:\n",
        "\n",
        "\n",
        "1. Customer.CSV\n",
        "2. CustomerNoHdr.CSV\n",
        "3. Country.JSON (for practicing alternate data format i.e. JSON files)\n",
        "4. BEAD_Rebu_Drivers.CSV\n",
        "5. BEAD_Rebu_Passengers.CSV\n",
        "6. BEAD_Rebu_TaxiCabs.JSON\n",
        "7. BEAD_Rebu_TripData.CSV\n",
        "\n",
        "Please upload each of the above files to your Google Drive, placing them in the designated 'data' subfolder.\n",
        "\n",
        "\n",
        "## PySpark Install\n",
        "\n",
        "The first step involves installing pyspark."
      ],
      "metadata": {
        "id": "9itXs_AzfbB1"
      }
    },
    {
      "cell_type": "code",
      "execution_count": 4,
      "metadata": {
        "colab": {
          "base_uri": "https://localhost:8080/"
        },
        "id": "PaINRdulfLtM",
        "outputId": "471a8035-a7e4-4bd2-8c81-10a2a3c133c2"
      },
      "outputs": [
        {
          "output_type": "stream",
          "name": "stdout",
          "text": [
            "W: Skipping acquire of configured file 'main/source/Sources' as repository 'https://r2u.stat.illinois.edu/ubuntu jammy InRelease' does not seem to provide it (sources.list entry misspelt?)\n",
            "java-1.21.0-openjdk-amd64\n",
            "java-21-openjdk-amd64\n"
          ]
        }
      ],
      "source": [
        "import os\n",
        "\n",
        "# 1. Install OpenJDK 21 (if not already done in a previous cell)\n",
        "!apt-get update -qq\n",
        "!apt-get install -qq openjdk-21-jdk-headless\n",
        "\n",
        "# 2. Verify where it landed (if needed)\n",
        "!ls /usr/lib/jvm | grep 21\n",
        "\n",
        "# 3. Point to JDK 21\n",
        "os.environ[\"JAVA_HOME\"] = \"/usr/lib/jvm/java-21-openjdk-amd64\"\n",
        "os.environ[\"PATH\"] = os.environ[\"JAVA_HOME\"] + \"/bin:\" + os.environ[\"PATH\"]\n",
        "\n",
        "# 4. Install PySpark via pip (make sure this happens AFTER setting JAVA_HOME)\n",
        "!pip install pyspark --quiet\n",
        "\n",
        "# 5. Import and start Spark\n",
        "from pyspark.sql import SparkSession\n",
        "spark = (\n",
        "    SparkSession.builder\n",
        "      .master(\"local[*]\")\n",
        "      .appName(\"Spark on Java21\")\n",
        "      .getOrCreate()\n",
        ")\n",
        "\n"
      ]
    },
    {
      "cell_type": "markdown",
      "source": [
        "## Mounting Google Drive\n",
        "Connect to Google Drive as the next step."
      ],
      "metadata": {
        "id": "6mkgGRWxmnK6"
      }
    },
    {
      "cell_type": "code",
      "source": [
        "# to read in data from a text file, first upload the data file into your google drive and then mount your google drive onto colab\n",
        "from google.colab import drive\n",
        "# to attempt to forcibly remount, call drive.mount(\"/content/drive\", force_remount=True)\n",
        "drive.mount('/content/drive', force_remount=True)"
      ],
      "metadata": {
        "colab": {
          "base_uri": "https://localhost:8080/"
        },
        "id": "_6AswSMMnDd5",
        "outputId": "0b07f2dc-1fef-4d3c-ff44-a3c098d6f3b5"
      },
      "execution_count": null,
      "outputs": [
        {
          "output_type": "stream",
          "name": "stdout",
          "text": [
            "Mounted at /content/drive\n"
          ]
        }
      ]
    },
    {
      "cell_type": "markdown",
      "source": [
        "##Spark Query Examples\n",
        "\n",
        "In this section we systematically walk through various queries starting from the simple ones and then build on to more complex queries. Walking through these self-guiding examples facilitates the students to gain comfort in handling various types of queries.\n",
        "\n",
        "Python Spark provides the option of embedding standard SQL queries. While we introduce it later for completeness, we will confine to functional programming approach in this workshop which is the more acceptable way of coding in the modern day systems.\n",
        "\n",
        "To get participants to speed, we confine to the CSV data deployed in a local folder, and walk the Scala Queries. It should be noted, that the queries themselves are IDENTICAL and INDEPENDENT of the data source and hence will work irrespective of whether the source is csv, json or rdbms database.\n",
        "\n",
        "###Example 1: Retrieving all data from the Customers Dataset"
      ],
      "metadata": {
        "id": "5I3xfK0FnRgO"
      }
    },
    {
      "cell_type": "code",
      "source": [
        "from pyspark import SparkContext, SparkConf\n",
        "from pyspark.sql import *\n",
        "from pyspark.sql.functions import *\n",
        "from pyspark.sql.types import *\n",
        "spark = SparkSession.builder.master(\"local\").appName(\"Customer\").getOrCreate()\n",
        "inputFilePath = \"/content/drive/My Drive/data/Customer.csv\"\n",
        "df_cust = ( spark.read\n",
        ".option(\"header\", \"true\")\n",
        ".option(\"inferSchema\", \"true\")\n",
        ".csv(inputFilePath) )\n",
        "df_cust.show()"
      ],
      "metadata": {
        "colab": {
          "base_uri": "https://localhost:8080/"
        },
        "id": "txx4lh7MnZ0K",
        "outputId": "ab7e6f4d-c715-44d6-a607-e92373432a4c"
      },
      "execution_count": 8,
      "outputs": [
        {
          "output_type": "stream",
          "name": "stdout",
          "text": [
            "+----------+--------------------+--------------+---+------+-----------+--------------------+---------+-----------+------------+-----------+\n",
            "|CustomerID|        CustomerName|MemberCategory|Age|Gender|AmountSpent|             Address|     City|CountryCode|ContactTitle|PhoneNumber|\n",
            "+----------+--------------------+--------------+---+------+-----------+--------------------+---------+-----------+------------+-----------+\n",
            "|      1000|        Lou Anna Tan|             A| 29|     F|       4.14|Blk 26, Telok Bla...|Frankfurt|        GER|          Ms|    2732287|\n",
            "|      1001|      Wong Sook Huey|             A| 37|     F|       67.1|Blk 1007 Teresa V...|Singapore|        SIN|          Ms|    2740975|\n",
            "|      1002|       Ng Choon Seng|             C| 23|     M|      63.18|Blk 63 Bishan St ...|  Toronto|        CAN|          Mr|    2580742|\n",
            "|      1003|      Chew Teck Kuan|             C| 63|     M|      64.49|Blk 109 Bedok Nor...|Singapore|        SIN|          Mr|    4434675|\n",
            "|      1111|           Steven Ou|             B| 61|     M|      44.51|Blk 244, Bukit Pa...|     Rio |        BRA|          Mr|    7620324|\n",
            "|      1634|  Sridharan Jayanthi|             A| 55|     F|      61.51|Blk 232, Jurong E...|Singapore|        SIN|          Ms|    6658037|\n",
            "|      1681|         Terence Lim|             C| 30|     M|      59.62|Blk 99, Balestier...|  Columbo|        SLR|          Mr|    3551385|\n",
            "|      1810|         Vanessa Ong|             C| 32|     F|      80.97|Blk 20, Eunos Cre...|Singapore|        SIN|          Ms|    7487923|\n",
            "|      1811|       Koh Ting Ting|             B| 57|     F|      21.52|Blk 61, Upper Pay...|Singapore|        SIN|          Ms|    2827208|\n",
            "|      1818|    Chionh Choon Lee|             A| 57|     M|       7.13|Blk 89, Zion Road...|Singapore|        SIN|          Mr|    7333100|\n",
            "|      2131|                 Jon|             A| 64|     F|      83.45|Block 88 Demsey R...|   Zurich|        SWZ|          Ms|    7654321|\n",
            "|      2233|       Too Siew Hong|             B| 35|     F|      21.83|Blk 749, Pasir Ri...|Singapore|        SIN|          Ms|    5847682|\n",
            "|      2270|   Chao Tah Jin Alex|             C| 22|     M|      87.07|Blk 12, Dover Clo...|Singapore|        SIN|          Mr|    8721768|\n",
            "|      2323|        Richard Kwan|             A| 26|     M|      89.52|Blk 27, Marine Cr...|Singapore|        SIN|          Mr|    2352345|\n",
            "|      2345| Ng Teck Kie Anthony|             A| 56|     M|      73.93|Blk 105, Gangsa R...|Singapore|        SIN|          Mr|    7690237|\n",
            "|      2626|          Steven Teo|             A| 56|     M|       8.17|Blk 253, Kim Keat...|Singapore|        SIN|          Mr|    3533819|\n",
            "|      2669|   Boh Lee Ming Lynn|             C| 23|     F|      41.99|Blk 671, Woodland...|Singapore|        SIN|          Ms|    2234567|\n",
            "|      2688|Kathleen Loh Swat...|             A| 38|     F|      39.16|Blk 56, #08-161 T...|Singapore|        SIN|          Ms|    2735765|\n",
            "|      2741|        Goh Chee Eng|             C| 45|     F|      25.91|Blk 267 Sembawang...|Singapore|        SIN|          Ms|    5553849|\n",
            "|      2820|    Ng Wee Hock John|             A| 56|     M|      66.22|Blk 417, Woodland...|Singapore|        SIN|          Mr|    3622055|\n",
            "+----------+--------------------+--------------+---+------+-----------+--------------------+---------+-----------+------------+-----------+\n",
            "only showing top 20 rows\n",
            "\n"
          ]
        }
      ]
    },
    {
      "cell_type": "markdown",
      "source": [
        "To see full set column width and more rows of data, you may use the following option of the show method. (i.e., up to 200 records are shown and column truncation set to false)"
      ],
      "metadata": {
        "id": "GAcTEK_ipk7i"
      }
    },
    {
      "cell_type": "code",
      "source": [
        "# df_cust.show(200, False)\n",
        "\n",
        "df_cust.where(\"MemberCategory = 'A' AND Age >30 AND CustomerName LIKE 'C%'\").orderBy(\"CustomerName\").show() # pyspark + sql --> similar to SQL commands\n",
        "\n",
        "# use select to select columns\n",
        "(\n",
        "  df_cust.where(\"MemberCategory = 'A' AND Age > 30 AND CustomerName LIKE 'C%'\")\n",
        "  .orderBy(\"CustomerName\")\n",
        "  .select(\"CustomerID\", \"CustomerName\", \"Age\", \"Gender\", \"AmountSpent\")\n",
        "  .show(truncate=False)\n",
        ")"
      ],
      "metadata": {
        "colab": {
          "base_uri": "https://localhost:8080/"
        },
        "id": "EKT7pBUnplt5",
        "outputId": "8ba815b2-f988-470f-db64-d2bb6ba334bd"
      },
      "execution_count": 24,
      "outputs": [
        {
          "output_type": "stream",
          "name": "stdout",
          "text": [
            "+----------+----------------+--------------+---+------+-----------+--------------------+---------+-----------+------------+-----------+\n",
            "|CustomerID|    CustomerName|MemberCategory|Age|Gender|AmountSpent|             Address|     City|CountryCode|ContactTitle|PhoneNumber|\n",
            "+----------+----------------+--------------+---+------+-----------+--------------------+---------+-----------+------------+-----------+\n",
            "|      2983|      Cheryl Tan|             A| 37|     F|      13.99|Blk 84, Telok Bla...|Singapore|        SIN|          Ms|    2789967|\n",
            "|      1818|Chionh Choon Lee|             A| 57|     M|       7.13|Blk 89, Zion Road...|Singapore|        SIN|          Mr|    7333100|\n",
            "|      5108|    Cho Wee Weng|             A| 50|     M|       24.8|Blk 208, Toa Payo...|Singapore|        SIN|          Mr|    2541126|\n",
            "+----------+----------------+--------------+---+------+-----------+--------------------+---------+-----------+------------+-----------+\n",
            "\n",
            "+----------+----------------+---+------+-----------+\n",
            "|CustomerID|CustomerName    |Age|Gender|AmountSpent|\n",
            "+----------+----------------+---+------+-----------+\n",
            "|2983      |Cheryl Tan      |37 |F     |13.99      |\n",
            "|1818      |Chionh Choon Lee|57 |M     |7.13       |\n",
            "|5108      |Cho Wee Weng    |50 |M     |24.8       |\n",
            "+----------+----------------+---+------+-----------+\n",
            "\n"
          ]
        }
      ]
    },
    {
      "cell_type": "code",
      "source": [
        "df_cust.describe()"
      ],
      "metadata": {
        "colab": {
          "base_uri": "https://localhost:8080/"
        },
        "id": "a4gggkotvMNm",
        "outputId": "d3bcd58f-e912-4b14-8017-4d4c389132e1"
      },
      "execution_count": 10,
      "outputs": [
        {
          "output_type": "execute_result",
          "data": {
            "text/plain": [
              "DataFrame[summary: string, CustomerID: string, CustomerName: string, MemberCategory: string, Age: string, Gender: string, AmountSpent: string, Address: string, City: string, CountryCode: string, ContactTitle: string, PhoneNumber: string]"
            ]
          },
          "metadata": {},
          "execution_count": 10
        }
      ]
    },
    {
      "cell_type": "markdown",
      "source": [
        "###Exploring Schema:\n",
        "To explore the implicit schema that has been generated based on the header row and interpretation of the data type in the subsequent data row you may use the following statement:"
      ],
      "metadata": {
        "id": "5sRFqQHnppRG"
      }
    },
    {
      "cell_type": "code",
      "source": [
        "df_cust.printSchema()"
      ],
      "metadata": {
        "colab": {
          "base_uri": "https://localhost:8080/"
        },
        "id": "-gWRyZWuptLg",
        "outputId": "4ea0b8e7-0cce-4dc4-abca-019c959bc9c4"
      },
      "execution_count": 11,
      "outputs": [
        {
          "output_type": "stream",
          "name": "stdout",
          "text": [
            "root\n",
            " |-- CustomerID: integer (nullable = true)\n",
            " |-- CustomerName: string (nullable = true)\n",
            " |-- MemberCategory: string (nullable = true)\n",
            " |-- Age: integer (nullable = true)\n",
            " |-- Gender: string (nullable = true)\n",
            " |-- AmountSpent: double (nullable = true)\n",
            " |-- Address: string (nullable = true)\n",
            " |-- City: string (nullable = true)\n",
            " |-- CountryCode: string (nullable = true)\n",
            " |-- ContactTitle: string (nullable = true)\n",
            " |-- PhoneNumber: integer (nullable = true)\n",
            "\n"
          ]
        }
      ]
    },
    {
      "cell_type": "markdown",
      "source": [
        "###Setting Schema:\n",
        "If you do not wish to use the implicit schema or if there are no header row in the file, then you can set your own definitions for column headers and the data types. There are a few ways of doing that, which you may explore from the api reference documentation.\n",
        "One of the ways of doing is to define a schema and use that schema while reading the csv, as shown in codes below:"
      ],
      "metadata": {
        "id": "yBCBVv0apwXo"
      }
    },
    {
      "cell_type": "code",
      "source": [
        "inputFilePath = \"/content/drive/My Drive/data/CustomerNoHdr.csv\"\n",
        "custschema = StructType([ StructField(\"Customerid\", IntegerType(), True),\n",
        "\tStructField(\"CustName\", StringType(), True),\n",
        "\tStructField(\"MemCat\", StringType(), True),\n",
        "\tStructField(\"Age\", IntegerType(), True),\n",
        "\tStructField(\"Gender\", StringType(), True),\n",
        "\tStructField(\"AmtSpent\", DoubleType(), True),\n",
        "\tStructField(\"Address\", StringType(), True),\n",
        "\tStructField(\"City\", StringType(), True),\n",
        "\tStructField(\"CountryID\", StringType(), True),\n",
        "\tStructField(\"Title\", StringType(), True),\n",
        "\tStructField(\"PhoneNo\", StringType(), True) ])\n",
        "df = spark.read .schema(schema=custschema).csv(inputFilePath)\n",
        "df.printSchema()\n",
        "df.show()"
      ],
      "metadata": {
        "colab": {
          "base_uri": "https://localhost:8080/"
        },
        "id": "bTs1hL9Tp__e",
        "outputId": "fec11611-1188-4b4b-aea5-8f42d7bb9119"
      },
      "execution_count": 12,
      "outputs": [
        {
          "output_type": "stream",
          "name": "stdout",
          "text": [
            "root\n",
            " |-- Customerid: integer (nullable = true)\n",
            " |-- CustName: string (nullable = true)\n",
            " |-- MemCat: string (nullable = true)\n",
            " |-- Age: integer (nullable = true)\n",
            " |-- Gender: string (nullable = true)\n",
            " |-- AmtSpent: double (nullable = true)\n",
            " |-- Address: string (nullable = true)\n",
            " |-- City: string (nullable = true)\n",
            " |-- CountryID: string (nullable = true)\n",
            " |-- Title: string (nullable = true)\n",
            " |-- PhoneNo: string (nullable = true)\n",
            "\n",
            "+----------+--------------------+------+---+------+--------+--------------------+---------+---------+-----+-------+\n",
            "|Customerid|            CustName|MemCat|Age|Gender|AmtSpent|             Address|     City|CountryID|Title|PhoneNo|\n",
            "+----------+--------------------+------+---+------+--------+--------------------+---------+---------+-----+-------+\n",
            "|      1000|        Lou Anna Tan|     A| 29|     F|    4.14|Blk 26, Telok Bla...|Frankfurt|      GER|   Ms|2732287|\n",
            "|      1001|      Wong Sook Huey|     A| 37|     F|    67.1|Blk 1007 Teresa V...|Singapore|      SIN|   Ms|2740975|\n",
            "|      1002|       Ng Choon Seng|     C| 23|     M|   63.18|Blk 63 Bishan St ...|  Toronto|      CAN|   Mr|2580742|\n",
            "|      1003|      Chew Teck Kuan|     C| 63|     M|   64.49|Blk 109 Bedok Nor...|Singapore|      SIN|   Mr|4434675|\n",
            "|      1111|           Steven Ou|     B| 61|     M|   44.51|Blk 244, Bukit Pa...|     Rio |      BRA|   Mr|7620324|\n",
            "|      1634|  Sridharan Jayanthi|     A| 55|     F|   61.51|Blk 232, Jurong E...|Singapore|      SIN|   Ms|6658037|\n",
            "|      1681|         Terence Lim|     C| 30|     M|   59.62|Blk 99, Balestier...|  Columbo|      SLR|   Mr|3551385|\n",
            "|      1810|         Vanessa Ong|     C| 32|     F|   80.97|Blk 20, Eunos Cre...|Singapore|      SIN|   Ms|7487923|\n",
            "|      1811|       Koh Ting Ting|     B| 57|     F|   21.52|Blk 61, Upper Pay...|Singapore|      SIN|   Ms|2827208|\n",
            "|      1818|    Chionh Choon Lee|     A| 57|     M|    7.13|Blk 89, Zion Road...|Singapore|      SIN|   Mr|7333100|\n",
            "|      2131|                 Jon|     A| 64|     F|   83.45|Block 88 Demsey R...|   Zurich|      SWZ|   Ms|7654321|\n",
            "|      2233|       Too Siew Hong|     B| 35|     F|   21.83|Blk 749, Pasir Ri...|Singapore|      SIN|   Ms|5847682|\n",
            "|      2270|   Chao Tah Jin Alex|     C| 22|     M|   87.07|Blk 12, Dover Clo...|Singapore|      SIN|   Mr|8721768|\n",
            "|      2323|        Richard Kwan|     A| 26|     M|   89.52|Blk 27, Marine Cr...|Singapore|      SIN|   Mr|2352345|\n",
            "|      2345| Ng Teck Kie Anthony|     A| 56|     M|   73.93|Blk 105, Gangsa R...|Singapore|      SIN|   Mr|7690237|\n",
            "|      2626|          Steven Teo|     A| 56|     M|    8.17|Blk 253, Kim Keat...|Singapore|      SIN|   Mr|3533819|\n",
            "|      2669|   Boh Lee Ming Lynn|     C| 23|     F|   41.99|Blk 671, Woodland...|Singapore|      SIN|   Ms|2234567|\n",
            "|      2688|Kathleen Loh Swat...|     A| 38|     F|   39.16|Blk 56, #08-161 T...|Singapore|      SIN|   Ms|2735765|\n",
            "|      2741|        Goh Chee Eng|     C| 45|     F|   25.91|Blk 267 Sembawang...|Singapore|      SIN|   Ms|5553849|\n",
            "|      2820|    Ng Wee Hock John|     A| 56|     M|   66.22|Blk 417, Woodland...|Singapore|      SIN|   Mr|3622055|\n",
            "+----------+--------------------+------+---+------+--------+--------------------+---------+---------+-----+-------+\n",
            "only showing top 20 rows\n",
            "\n"
          ]
        }
      ]
    },
    {
      "cell_type": "markdown",
      "source": [
        "###Example 2: Returning Selected Fields\n",
        "\n",
        "Show only CustomerID, CustomerName and Age\n",
        "\n",
        "Note that when we return a dataset (customers in the above case), we get all columns.\n",
        "\n",
        "If we wish to return only selected fields, e.g, if you wish to only return CustomerID, CustomerName and Age and skip the other fields then you can specify the selected fields."
      ],
      "metadata": {
        "id": "_C6OjasFqyg_"
      }
    },
    {
      "cell_type": "code",
      "source": [
        "df_cust.select(df_cust[\"CustomerID\"], df_cust[\"CustomerName\"], df_cust[\"Age\"]).show()"
      ],
      "metadata": {
        "colab": {
          "base_uri": "https://localhost:8080/"
        },
        "id": "o54BKp1yq4NP",
        "outputId": "1b18de61-8518-4939-8169-3f27b6bf1706"
      },
      "execution_count": null,
      "outputs": [
        {
          "output_type": "stream",
          "name": "stdout",
          "text": [
            "+----------+--------------------+---+\n",
            "|CustomerID|        CustomerName|Age|\n",
            "+----------+--------------------+---+\n",
            "|      1000|        Lou Anna Tan| 29|\n",
            "|      1001|      Wong Sook Huey| 37|\n",
            "|      1002|       Ng Choon Seng| 23|\n",
            "|      1003|      Chew Teck Kuan| 63|\n",
            "|      1111|           Steven Ou| 61|\n",
            "|      1634|  Sridharan Jayanthi| 55|\n",
            "|      1681|         Terence Lim| 30|\n",
            "|      1810|         Vanessa Ong| 32|\n",
            "|      1811|       Koh Ting Ting| 57|\n",
            "|      1818|    Chionh Choon Lee| 57|\n",
            "|      2131|                 Jon| 64|\n",
            "|      2233|       Too Siew Hong| 35|\n",
            "|      2270|   Chao Tah Jin Alex| 22|\n",
            "|      2323|        Richard Kwan| 26|\n",
            "|      2345| Ng Teck Kie Anthony| 56|\n",
            "|      2626|          Steven Teo| 56|\n",
            "|      2669|   Boh Lee Ming Lynn| 23|\n",
            "|      2688|Kathleen Loh Swat...| 38|\n",
            "|      2741|        Goh Chee Eng| 45|\n",
            "|      2820|    Ng Wee Hock John| 56|\n",
            "+----------+--------------------+---+\n",
            "only showing top 20 rows\n",
            "\n"
          ]
        }
      ]
    },
    {
      "cell_type": "markdown",
      "source": [
        "OR"
      ],
      "metadata": {
        "id": "HiMiDsVyrUGT"
      }
    },
    {
      "cell_type": "code",
      "source": [
        "df_cust.select(\"CustomerID\", \"CustomerName\", \"Age\").show()"
      ],
      "metadata": {
        "colab": {
          "base_uri": "https://localhost:8080/"
        },
        "id": "IFBKALd5rU_x",
        "outputId": "247788e6-02e1-4c8d-faca-16c2d0e09989"
      },
      "execution_count": null,
      "outputs": [
        {
          "output_type": "stream",
          "name": "stdout",
          "text": [
            "+----------+--------------------+---+\n",
            "|CustomerID|        CustomerName|Age|\n",
            "+----------+--------------------+---+\n",
            "|      1000|        Lou Anna Tan| 29|\n",
            "|      1001|      Wong Sook Huey| 37|\n",
            "|      1002|       Ng Choon Seng| 23|\n",
            "|      1003|      Chew Teck Kuan| 63|\n",
            "|      1111|           Steven Ou| 61|\n",
            "|      1634|  Sridharan Jayanthi| 55|\n",
            "|      1681|         Terence Lim| 30|\n",
            "|      1810|         Vanessa Ong| 32|\n",
            "|      1811|       Koh Ting Ting| 57|\n",
            "|      1818|    Chionh Choon Lee| 57|\n",
            "|      2131|                 Jon| 64|\n",
            "|      2233|       Too Siew Hong| 35|\n",
            "|      2270|   Chao Tah Jin Alex| 22|\n",
            "|      2323|        Richard Kwan| 26|\n",
            "|      2345| Ng Teck Kie Anthony| 56|\n",
            "|      2626|          Steven Teo| 56|\n",
            "|      2669|   Boh Lee Ming Lynn| 23|\n",
            "|      2688|Kathleen Loh Swat...| 38|\n",
            "|      2741|        Goh Chee Eng| 45|\n",
            "|      2820|    Ng Wee Hock John| 56|\n",
            "+----------+--------------------+---+\n",
            "only showing top 20 rows\n",
            "\n"
          ]
        }
      ]
    },
    {
      "cell_type": "markdown",
      "source": [
        "OR"
      ],
      "metadata": {
        "id": "VTYtglagreK9"
      }
    },
    {
      "cell_type": "code",
      "source": [
        "df_cust.select(col(\"CustomerID\"), col(\"CustomerName\"), col(\"Age\")).show()"
      ],
      "metadata": {
        "id": "GwIgFdhzrfNk"
      },
      "execution_count": null,
      "outputs": []
    },
    {
      "cell_type": "markdown",
      "source": [
        "##SPARK QUERY LANGUAGE FUNCTIONS\n",
        "###Example 3: Retrieving data from the Customers Dataset & displaying sorted on Customer Name\n"
      ],
      "metadata": {
        "id": "QAHtJVRrrm-t"
      }
    },
    {
      "cell_type": "code",
      "source": [
        "df_cust.orderBy(\"CustomerName\").show()"
      ],
      "metadata": {
        "colab": {
          "base_uri": "https://localhost:8080/"
        },
        "id": "elRLjNydrtrF",
        "outputId": "30c942c0-e4d1-489f-9262-8ad6db48e9cc"
      },
      "execution_count": null,
      "outputs": [
        {
          "output_type": "stream",
          "name": "stdout",
          "text": [
            "+----------+--------------------+--------------+---+------+-----------+--------------------+---------+-----------+------------+-----------+\n",
            "|CustomerID|        CustomerName|MemberCategory|Age|Gender|AmountSpent|             Address|     City|CountryCode|ContactTitle|PhoneNumber|\n",
            "+----------+--------------------+--------------+---+------+-----------+--------------------+---------+-----------+------------+-----------+\n",
            "|      4567|         Abdul Zaidi|             A| 29|     M|      31.65|Blk 24, Telok Bla...|Singapore|        SIN|          Mr|    2709466|\n",
            "|      5489|        Ang Kim Beng|             A| 45|     M|      32.09|Blk 208 Bedok Nor...|Singapore|        SIN|          Mr|    4486578|\n",
            "|      2669|   Boh Lee Ming Lynn|             C| 23|     F|      41.99|Blk 671, Woodland...|Singapore|        SIN|          Ms|    2234567|\n",
            "|      8080|      Chan Chin Fung|             B| 56|     M|      24.95|6 Dover Rise, #17...|Singapore|        SIN|          Mr|    8738529|\n",
            "|      2270|   Chao Tah Jin Alex|             C| 22|     M|      87.07|Blk 12, Dover Clo...|Singapore|        SIN|          Mr|    8721768|\n",
            "|      7616|     Cheong Pei Sian|             B| 57|     F|      92.57|8 Westwood Walk, ...|Singapore|        SIN|          Ms|    7918584|\n",
            "|      2828|         Cheryl Song|             C| 35|     F|      83.59|Blk 26, Bayshore ...|    Paris|        FRA|          Ms|    2459304|\n",
            "|      2983|          Cheryl Tan|             A| 37|     F|      13.99|Blk 84, Telok Bla...|Singapore|        SIN|          Ms|    2789967|\n",
            "|      1003|      Chew Teck Kuan|             C| 63|     M|      64.49|Blk 109 Bedok Nor...|Singapore|        SIN|          Mr|    4434675|\n",
            "|      1818|    Chionh Choon Lee|             A| 57|     M|       7.13|Blk 89, Zion Road...|Singapore|        SIN|          Mr|    7333100|\n",
            "|      5108|        Cho Wee Weng|             A| 50|     M|       24.8|Blk 208, Toa Payo...|Singapore|        SIN|          Mr|    2541126|\n",
            "|      6598|     Choey Choon Yen|             A| 28|     M|      88.01|30, Dedap Road, S...|Singapore|        SIN|          Mr|    4847698|\n",
            "|      5168|      Constance Yong|             C| 46|     F|      30.64|Blk 673 Bukit Bat...|Singapore|        SIN|          Ms|    7771357|\n",
            "|      8788|        Fu Shou Jeen|             A| 59|     M|      75.43|9 Broadrick Road,...|Singapore|        SIN|          Mr|    3468656|\n",
            "|      2741|        Goh Chee Eng|             C| 45|     F|      25.91|Blk 267 Sembawang...|Singapore|        SIN|          Ms|    5553849|\n",
            "|      6969|         Jason Young|             C| 52|     M|      15.85|blk 48 dorset rd ...|Singapore|        SIN|          Mr|    6969696|\n",
            "|      2131|                 Jon|             A| 64|     F|      83.45|Block 88 Demsey R...|   Zurich|        SWZ|          Ms|    7654321|\n",
            "|      5568|        Kam Teng Mun|             A| 26|     M|      17.84|Blk 894, Tampines...|Singapore|        SIN|          Mr|    7825643|\n",
            "|      2876|Kan May Yoke Mich...|             C| 43|     F|      56.61|Blk 710 Ang Mo Ki...|Singapore|        SIN|          Ms|    4554591|\n",
            "|      2688|Kathleen Loh Swat...|             A| 38|     F|      39.16|Blk 56, #08-161 T...|Singapore|        SIN|          Ms|    2735765|\n",
            "+----------+--------------------+--------------+---+------+-----------+--------------------+---------+-----------+------------+-----------+\n",
            "only showing top 20 rows\n",
            "\n"
          ]
        }
      ]
    },
    {
      "cell_type": "markdown",
      "source": [
        "Getting sorted by member category first then on Customer Name:"
      ],
      "metadata": {
        "id": "RUTqtD36r19G"
      }
    },
    {
      "cell_type": "code",
      "source": [
        "df_cust.orderBy(\"MemberCategory\", \"CustomerName\").show()\n"
      ],
      "metadata": {
        "colab": {
          "base_uri": "https://localhost:8080/"
        },
        "id": "kgxlrpEMr2eb",
        "outputId": "29b167b3-95bb-4e97-9dbb-d0919469c31a"
      },
      "execution_count": null,
      "outputs": [
        {
          "output_type": "stream",
          "name": "stdout",
          "text": [
            "+----------+--------------------+--------------+---+------+-----------+--------------------+---------+-----------+------------+-----------+\n",
            "|CustomerID|        CustomerName|MemberCategory|Age|Gender|AmountSpent|             Address|     City|CountryCode|ContactTitle|PhoneNumber|\n",
            "+----------+--------------------+--------------+---+------+-----------+--------------------+---------+-----------+------------+-----------+\n",
            "|      4567|         Abdul Zaidi|             A| 29|     M|      31.65|Blk 24, Telok Bla...|Singapore|        SIN|          Mr|    2709466|\n",
            "|      5489|        Ang Kim Beng|             A| 45|     M|      32.09|Blk 208 Bedok Nor...|Singapore|        SIN|          Mr|    4486578|\n",
            "|      2983|          Cheryl Tan|             A| 37|     F|      13.99|Blk 84, Telok Bla...|Singapore|        SIN|          Ms|    2789967|\n",
            "|      1818|    Chionh Choon Lee|             A| 57|     M|       7.13|Blk 89, Zion Road...|Singapore|        SIN|          Mr|    7333100|\n",
            "|      5108|        Cho Wee Weng|             A| 50|     M|       24.8|Blk 208, Toa Payo...|Singapore|        SIN|          Mr|    2541126|\n",
            "|      6598|     Choey Choon Yen|             A| 28|     M|      88.01|30, Dedap Road, S...|Singapore|        SIN|          Mr|    4847698|\n",
            "|      8788|        Fu Shou Jeen|             A| 59|     M|      75.43|9 Broadrick Road,...|Singapore|        SIN|          Mr|    3468656|\n",
            "|      2131|                 Jon|             A| 64|     F|      83.45|Block 88 Demsey R...|   Zurich|        SWZ|          Ms|    7654321|\n",
            "|      5568|        Kam Teng Mun|             A| 26|     M|      17.84|Blk 894, Tampines...|Singapore|        SIN|          Mr|    7825643|\n",
            "|      2688|Kathleen Loh Swat...|             A| 38|     F|      39.16|Blk 56, #08-161 T...|Singapore|        SIN|          Ms|    2735765|\n",
            "|      5156|       Lee Boon Kiat|             A| 32|     M|      73.91|26A, Lengkong Sat...|Singapore|        SIN|          Mr|    4423368|\n",
            "|      4312|       Leong Wai Fun|             A| 23|     F|      56.25|Blk 43, Hindhede ...|   Geneva|        SWZ|          Ms|    4674116|\n",
            "|      8973|        Loke Je Hong|             A| 50|     M|      51.18|503 Elias Road, S...|Singapore|        SIN|          Mr|    5827992|\n",
            "|      1000|        Lou Anna Tan|             A| 29|     F|       4.14|Blk 26, Telok Bla...|Frankfurt|        GER|          Ms|    2732287|\n",
            "|      6628|         Margaret Ng|             A| 30|     F|      57.19|Blk 835, Hougang ...|Singapore|        SIN|          Ms|    3853767|\n",
            "|      6932|        Ng Hwee Ling|             A| 37|     F|      17.83|280, Bedok Road, ...|Singapore|        SIN|          Ms|    2420425|\n",
            "|      2345| Ng Teck Kie Anthony|             A| 56|     M|      73.93|Blk 105, Gangsa R...|Singapore|        SIN|          Mr|    7690237|\n",
            "|      2820|    Ng Wee Hock John|             A| 56|     M|      66.22|Blk 417, Woodland...|Singapore|        SIN|          Mr|    3622055|\n",
            "|      7856|   Rajaram Venkatesh|             A| 57|     M|       4.56|Blk 143, Petir ro...|Singapore|        SIN|          Mr|    7634227|\n",
            "|      2323|        Richard Kwan|             A| 26|     M|      89.52|Blk 27, Marine Cr...|Singapore|        SIN|          Mr|    2352345|\n",
            "+----------+--------------------+--------------+---+------+-----------+--------------------+---------+-----------+------------+-----------+\n",
            "only showing top 20 rows\n",
            "\n"
          ]
        }
      ]
    },
    {
      "cell_type": "markdown",
      "source": [
        "###Example 4: Selective retrieval\n",
        "1. Obtaining only those Customers whose MemberCategory is ‘A’\n",
        "      \n",
        "      Use the filter function as below"
      ],
      "metadata": {
        "id": "aWiDmyN1sLwc"
      }
    },
    {
      "cell_type": "code",
      "source": [
        "df_cust.filter(df_cust[\"MemberCategory\"] == \"A\").show()"
      ],
      "metadata": {
        "colab": {
          "base_uri": "https://localhost:8080/"
        },
        "id": "jEIsNNZSsOMG",
        "outputId": "db83a205-8a7a-41b2-fe0e-11bf39a481cf"
      },
      "execution_count": null,
      "outputs": [
        {
          "output_type": "stream",
          "name": "stdout",
          "text": [
            "+----------+--------------------+--------------+---+------+-----------+--------------------+---------+-----------+------------+-----------+\n",
            "|CustomerID|        CustomerName|MemberCategory|Age|Gender|AmountSpent|             Address|     City|CountryCode|ContactTitle|PhoneNumber|\n",
            "+----------+--------------------+--------------+---+------+-----------+--------------------+---------+-----------+------------+-----------+\n",
            "|      1000|        Lou Anna Tan|             A| 29|     F|       4.14|Blk 26, Telok Bla...|Frankfurt|        GER|          Ms|    2732287|\n",
            "|      1001|      Wong Sook Huey|             A| 37|     F|       67.1|Blk 1007 Teresa V...|Singapore|        SIN|          Ms|    2740975|\n",
            "|      1634|  Sridharan Jayanthi|             A| 55|     F|      61.51|Blk 232, Jurong E...|Singapore|        SIN|          Ms|    6658037|\n",
            "|      1818|    Chionh Choon Lee|             A| 57|     M|       7.13|Blk 89, Zion Road...|Singapore|        SIN|          Mr|    7333100|\n",
            "|      2131|                 Jon|             A| 64|     F|      83.45|Block 88 Demsey R...|   Zurich|        SWZ|          Ms|    7654321|\n",
            "|      2323|        Richard Kwan|             A| 26|     M|      89.52|Blk 27, Marine Cr...|Singapore|        SIN|          Mr|    2352345|\n",
            "|      2345| Ng Teck Kie Anthony|             A| 56|     M|      73.93|Blk 105, Gangsa R...|Singapore|        SIN|          Mr|    7690237|\n",
            "|      2626|          Steven Teo|             A| 56|     M|       8.17|Blk 253, Kim Keat...|Singapore|        SIN|          Mr|    3533819|\n",
            "|      2688|Kathleen Loh Swat...|             A| 38|     F|      39.16|Blk 56, #08-161 T...|Singapore|        SIN|          Ms|    2735765|\n",
            "|      2820|    Ng Wee Hock John|             A| 56|     M|      66.22|Blk 417, Woodland...|Singapore|        SIN|          Mr|    3622055|\n",
            "|      2983|          Cheryl Tan|             A| 37|     F|      13.99|Blk 84, Telok Bla...|Singapore|        SIN|          Ms|    2789967|\n",
            "|      3845|     Tan Choon Heong|             A| 21|     M|      10.82|Blk 303, Shunfu R...|Singapore|        SIN|          Mr|    3580709|\n",
            "|      4312|       Leong Wai Fun|             A| 23|     F|      56.25|Blk 43, Hindhede ...|   Geneva|        SWZ|          Ms|    4674116|\n",
            "|      4567|         Abdul Zaidi|             A| 29|     M|      31.65|Blk 24, Telok Bla...|Singapore|        SIN|          Mr|    2709466|\n",
            "|      5108|        Cho Wee Weng|             A| 50|     M|       24.8|Blk 208, Toa Payo...|Singapore|        SIN|          Mr|    2541126|\n",
            "|      5156|       Lee Boon Kiat|             A| 32|     M|      73.91|26A, Lengkong Sat...|Singapore|        SIN|          Mr|    4423368|\n",
            "|      5489|        Ang Kim Beng|             A| 45|     M|      32.09|Blk 208 Bedok Nor...|Singapore|        SIN|          Mr|    4486578|\n",
            "|      5568|        Kam Teng Mun|             A| 26|     M|      17.84|Blk 894, Tampines...|Singapore|        SIN|          Mr|    7825643|\n",
            "|      5968|         Tan Wei Wei|             A| 48|     F|       71.6|3, Kismis Place, ...|Singapore|        SIN|          Ms|    4674463|\n",
            "|      6598|     Choey Choon Yen|             A| 28|     M|      88.01|30, Dedap Road, S...|Singapore|        SIN|          Mr|    4847698|\n",
            "+----------+--------------------+--------------+---+------+-----------+--------------------+---------+-----------+------------+-----------+\n",
            "only showing top 20 rows\n",
            "\n"
          ]
        }
      ]
    },
    {
      "cell_type": "markdown",
      "source": [
        "2.  Obtaining only those Customers whose MemberCategory is ‘A’ & their name starts with ‘T’"
      ],
      "metadata": {
        "id": "by2IcTbSscfc"
      }
    },
    {
      "cell_type": "code",
      "source": [
        "df_cust.filter((df_cust[\"MemberCategory\"] == \"A\") & (df_cust[\"CustomerName\"].startswith(\"T\"))).show()"
      ],
      "metadata": {
        "colab": {
          "base_uri": "https://localhost:8080/"
        },
        "id": "D5-0_U5PshaE",
        "outputId": "a1d7daf2-a97e-4e1d-cb1d-5c856f1ab873"
      },
      "execution_count": null,
      "outputs": [
        {
          "output_type": "stream",
          "name": "stdout",
          "text": [
            "+----------+---------------+--------------+---+------+-----------+--------------------+---------+-----------+------------+-----------+\n",
            "|CustomerID|   CustomerName|MemberCategory|Age|Gender|AmountSpent|             Address|     City|CountryCode|ContactTitle|PhoneNumber|\n",
            "+----------+---------------+--------------+---+------+-----------+--------------------+---------+-----------+------------+-----------+\n",
            "|      3845|Tan Choon Heong|             A| 21|     M|      10.82|Blk 303, Shunfu R...|Singapore|        SIN|          Mr|    3580709|\n",
            "|      5968|    Tan Wei Wei|             A| 48|     F|       71.6|3, Kismis Place, ...|Singapore|        SIN|          Ms|    4674463|\n",
            "+----------+---------------+--------------+---+------+-----------+--------------------+---------+-----------+------------+-----------+\n",
            "\n"
          ]
        }
      ]
    },
    {
      "cell_type": "markdown",
      "source": [
        "###Example 5: Combining functions\n",
        "\n",
        "In this example we will show the combination of filtering and sorting.\n",
        "\n",
        "Retrieve all Customers who belongs to MemberCategory A and present in ascending order of names.\n",
        "\n",
        "You will need to use multiple functions in succession as below.\n"
      ],
      "metadata": {
        "id": "hGzEy29qso9X"
      }
    },
    {
      "cell_type": "code",
      "source": [
        "df_cust.filter(df_cust[\"MemberCategory\"] == \"A\").orderBy(\"CustomerName\").show()"
      ],
      "metadata": {
        "colab": {
          "base_uri": "https://localhost:8080/"
        },
        "id": "hMEhVX5VssZ_",
        "outputId": "d86ad36f-f5ae-43f9-f01d-081429a6ae1a"
      },
      "execution_count": null,
      "outputs": [
        {
          "output_type": "stream",
          "name": "stdout",
          "text": [
            "+----------+--------------------+--------------+---+------+-----------+--------------------+---------+-----------+------------+-----------+\n",
            "|CustomerID|        CustomerName|MemberCategory|Age|Gender|AmountSpent|             Address|     City|CountryCode|ContactTitle|PhoneNumber|\n",
            "+----------+--------------------+--------------+---+------+-----------+--------------------+---------+-----------+------------+-----------+\n",
            "|      4567|         Abdul Zaidi|             A| 29|     M|      31.65|Blk 24, Telok Bla...|Singapore|        SIN|          Mr|    2709466|\n",
            "|      5489|        Ang Kim Beng|             A| 45|     M|      32.09|Blk 208 Bedok Nor...|Singapore|        SIN|          Mr|    4486578|\n",
            "|      2983|          Cheryl Tan|             A| 37|     F|      13.99|Blk 84, Telok Bla...|Singapore|        SIN|          Ms|    2789967|\n",
            "|      1818|    Chionh Choon Lee|             A| 57|     M|       7.13|Blk 89, Zion Road...|Singapore|        SIN|          Mr|    7333100|\n",
            "|      5108|        Cho Wee Weng|             A| 50|     M|       24.8|Blk 208, Toa Payo...|Singapore|        SIN|          Mr|    2541126|\n",
            "|      6598|     Choey Choon Yen|             A| 28|     M|      88.01|30, Dedap Road, S...|Singapore|        SIN|          Mr|    4847698|\n",
            "|      8788|        Fu Shou Jeen|             A| 59|     M|      75.43|9 Broadrick Road,...|Singapore|        SIN|          Mr|    3468656|\n",
            "|      2131|                 Jon|             A| 64|     F|      83.45|Block 88 Demsey R...|   Zurich|        SWZ|          Ms|    7654321|\n",
            "|      5568|        Kam Teng Mun|             A| 26|     M|      17.84|Blk 894, Tampines...|Singapore|        SIN|          Mr|    7825643|\n",
            "|      2688|Kathleen Loh Swat...|             A| 38|     F|      39.16|Blk 56, #08-161 T...|Singapore|        SIN|          Ms|    2735765|\n",
            "|      5156|       Lee Boon Kiat|             A| 32|     M|      73.91|26A, Lengkong Sat...|Singapore|        SIN|          Mr|    4423368|\n",
            "|      4312|       Leong Wai Fun|             A| 23|     F|      56.25|Blk 43, Hindhede ...|   Geneva|        SWZ|          Ms|    4674116|\n",
            "|      8973|        Loke Je Hong|             A| 50|     M|      51.18|503 Elias Road, S...|Singapore|        SIN|          Mr|    5827992|\n",
            "|      1000|        Lou Anna Tan|             A| 29|     F|       4.14|Blk 26, Telok Bla...|Frankfurt|        GER|          Ms|    2732287|\n",
            "|      6628|         Margaret Ng|             A| 30|     F|      57.19|Blk 835, Hougang ...|Singapore|        SIN|          Ms|    3853767|\n",
            "|      6932|        Ng Hwee Ling|             A| 37|     F|      17.83|280, Bedok Road, ...|Singapore|        SIN|          Ms|    2420425|\n",
            "|      2345| Ng Teck Kie Anthony|             A| 56|     M|      73.93|Blk 105, Gangsa R...|Singapore|        SIN|          Mr|    7690237|\n",
            "|      2820|    Ng Wee Hock John|             A| 56|     M|      66.22|Blk 417, Woodland...|Singapore|        SIN|          Mr|    3622055|\n",
            "|      7856|   Rajaram Venkatesh|             A| 57|     M|       4.56|Blk 143, Petir ro...|Singapore|        SIN|          Mr|    7634227|\n",
            "|      2323|        Richard Kwan|             A| 26|     M|      89.52|Blk 27, Marine Cr...|Singapore|        SIN|          Mr|    2352345|\n",
            "+----------+--------------------+--------------+---+------+-----------+--------------------+---------+-----------+------------+-----------+\n",
            "only showing top 20 rows\n",
            "\n"
          ]
        }
      ]
    },
    {
      "cell_type": "markdown",
      "source": [
        "##AGGREGATION AND SIMPLE STATISTICAL QUERY EXAMPLES\n",
        "###Example 6: Getting a count\n",
        "Obtaining the number of A category members."
      ],
      "metadata": {
        "id": "fg-ai1zxs6av"
      }
    },
    {
      "cell_type": "code",
      "source": [
        "df_cust.filter(df_cust[\"MemberCategory\"] == \"A\").count()"
      ],
      "metadata": {
        "colab": {
          "base_uri": "https://localhost:8080/"
        },
        "id": "KdXCiOhvs8-W",
        "outputId": "567ff7d1-d305-475d-cdcc-b68050e4e522"
      },
      "execution_count": 25,
      "outputs": [
        {
          "output_type": "execute_result",
          "data": {
            "text/plain": [
              "26"
            ]
          },
          "metadata": {},
          "execution_count": 25
        }
      ]
    },
    {
      "cell_type": "markdown",
      "source": [
        "###Example 7: Getting the Sum of a field\n",
        "Obtaining the Total Amount earned (i.e., sum of AmountSpent by all customers).\n"
      ],
      "metadata": {
        "id": "RkcoCEFWtJcx"
      }
    },
    {
      "cell_type": "code",
      "source": [
        "df_cust.agg(sum(\"AmountSpent\")).show()"
      ],
      "metadata": {
        "colab": {
          "base_uri": "https://localhost:8080/"
        },
        "id": "EIuvGX_mtN36",
        "outputId": "e12649ea-f93c-4824-defa-bacf14b45cb8"
      },
      "execution_count": 30,
      "outputs": [
        {
          "output_type": "stream",
          "name": "stdout",
          "text": [
            "+-----------------+\n",
            "| sum(AmountSpent)|\n",
            "+-----------------+\n",
            "|2486.309999999999|\n",
            "+-----------------+\n",
            "\n"
          ]
        }
      ]
    },
    {
      "cell_type": "markdown",
      "source": [
        "###Example 8: Getting the Sum of a field with condition on the rows to use\n",
        "Obtaining the Total Amount earned from A category members (i.e., sum of AmountSpent by all customers whose MemberCategory is A)."
      ],
      "metadata": {
        "id": "5GVUpfTNtdz3"
      }
    },
    {
      "cell_type": "code",
      "source": [
        "df_cust.filter(df_cust[\"MemberCategory\"] == \"A\").agg(sum(\"AmountSpent\")).show()"
      ],
      "metadata": {
        "colab": {
          "base_uri": "https://localhost:8080/"
        },
        "id": "W5T4D0N-tdJB",
        "outputId": "1ae614b4-a121-4f18-c0bb-b5ec3277761a"
      },
      "execution_count": null,
      "outputs": [
        {
          "output_type": "stream",
          "name": "stdout",
          "text": [
            "+----------------+\n",
            "|sum(AmountSpent)|\n",
            "+----------------+\n",
            "|         1194.66|\n",
            "+----------------+\n",
            "\n"
          ]
        }
      ]
    },
    {
      "cell_type": "markdown",
      "source": [
        "###Example 9: Getting the Average of a field\n",
        "Obtaining the Average Age of customers"
      ],
      "metadata": {
        "id": "vXqY_cmPtq6v"
      }
    },
    {
      "cell_type": "code",
      "source": [
        "df_cust.agg(avg(\"Age\")).show()"
      ],
      "metadata": {
        "colab": {
          "base_uri": "https://localhost:8080/"
        },
        "id": "-vqR3iuitsdH",
        "outputId": "14352526-ccc9-4040-98bd-936cf3a2fe36"
      },
      "execution_count": null,
      "outputs": [
        {
          "output_type": "stream",
          "name": "stdout",
          "text": [
            "+--------+\n",
            "|avg(Age)|\n",
            "+--------+\n",
            "|   41.82|\n",
            "+--------+\n",
            "\n"
          ]
        }
      ]
    },
    {
      "cell_type": "markdown",
      "source": [
        "##COMPLEX & FURTHER STASTICAL QUERIES\n",
        "The example on Group by where sub-totals are obtained may be a good example to mix both.\n",
        "###Example 10: Grouping & Subtotals based on single parameter\n",
        "Obtaining Total Amount Spent for each all customers in each Member Category"
      ],
      "metadata": {
        "id": "lniPg2Jrt6rM"
      }
    },
    {
      "cell_type": "code",
      "source": [
        "df_cust.groupBy(\"MemberCategory\").agg(sum(\"AmountSpent\")).show()"
      ],
      "metadata": {
        "colab": {
          "base_uri": "https://localhost:8080/"
        },
        "id": "L1BgWOXVt9jz",
        "outputId": "726772e1-5b89-4263-8ebd-18d0fb40dccb"
      },
      "execution_count": null,
      "outputs": [
        {
          "output_type": "stream",
          "name": "stdout",
          "text": [
            "+--------------+------------------+\n",
            "|MemberCategory|  sum(AmountSpent)|\n",
            "+--------------+------------------+\n",
            "|             B|500.40999999999997|\n",
            "|             C|            791.24|\n",
            "|             A|           1194.66|\n",
            "+--------------+------------------+\n",
            "\n"
          ]
        }
      ]
    },
    {
      "cell_type": "markdown",
      "source": [
        "###Example 11: Grouping & Subtotals based on multiple parameters\n",
        "Obtaining Total Amount Spent by customers based on their Member Category & Gender"
      ],
      "metadata": {
        "id": "iMfQVBqSuIeA"
      }
    },
    {
      "cell_type": "code",
      "source": [
        "df_cust.groupBy(\"MemberCategory\", \"Gender\").sum(\"AmountSpent\").orderBy(\"MemberCategory\", \"Gender\").show()"
      ],
      "metadata": {
        "colab": {
          "base_uri": "https://localhost:8080/"
        },
        "id": "Lhx4DfF8uJ9_",
        "outputId": "d352be25-6593-4fed-9398-6d1533d73209"
      },
      "execution_count": null,
      "outputs": [
        {
          "output_type": "stream",
          "name": "stdout",
          "text": [
            "+--------------+------+-----------------+\n",
            "|MemberCategory|Gender| sum(AmountSpent)|\n",
            "+--------------+------+-----------------+\n",
            "|             A|     F|472.2199999999999|\n",
            "|             A|     M|722.4399999999998|\n",
            "|             B|     F|           216.48|\n",
            "|             B|     M|           283.93|\n",
            "|             C|     F|           401.51|\n",
            "|             C|     M|           389.73|\n",
            "+--------------+------+-----------------+\n",
            "\n"
          ]
        }
      ]
    },
    {
      "cell_type": "markdown",
      "source": [
        "###Example 12: ROLL UP function (vs Group By)\n",
        "Observe that there are more rows now. The rows with “null” represent the totals of all the grouping divisions. For instance the value reflected in B-Null is the sum of B-M and B-F"
      ],
      "metadata": {
        "id": "ch3SM-HOuv-b"
      }
    },
    {
      "cell_type": "code",
      "source": [
        "df_cust.rollup(\"MemberCategory\",\"Gender\").sum(\"AmountSpent\") .orderBy(\"MemberCategory\",\"Gender\").show()"
      ],
      "metadata": {
        "colab": {
          "base_uri": "https://localhost:8080/"
        },
        "id": "tK3gbf15uzun",
        "outputId": "abbf56ae-0aab-432a-b899-01a93f47e31b"
      },
      "execution_count": null,
      "outputs": [
        {
          "output_type": "stream",
          "name": "stdout",
          "text": [
            "+--------------+------+------------------+\n",
            "|MemberCategory|Gender|  sum(AmountSpent)|\n",
            "+--------------+------+------------------+\n",
            "|          NULL|  NULL| 2486.309999999999|\n",
            "|             A|  NULL|           1194.66|\n",
            "|             A|     F| 472.2199999999999|\n",
            "|             A|     M| 722.4399999999998|\n",
            "|             B|  NULL|500.40999999999997|\n",
            "|             B|     F|            216.48|\n",
            "|             B|     M|            283.93|\n",
            "|             C|  NULL|            791.24|\n",
            "|             C|     F|            401.51|\n",
            "|             C|     M|            389.73|\n",
            "+--------------+------+------------------+\n",
            "\n"
          ]
        }
      ]
    },
    {
      "cell_type": "markdown",
      "source": [
        "###Example 13: The CUBE function instead of ROLL UP\n",
        "Observe that while in the case of rollup the MemberCategory was taken as primary and the total for only the sub-category was performed, the cube is multidimensional. This means computation of totals is performed from both MemberCategory as primary and Gender as primary. So while rollup function provides only totals for MemberCategory (i.e., sum of all Gender for each Member Category), the cube function provides totals for all MemberCategory (i.e. sum by Gender for each Member Category) AS WELL AS the totals of all Gender (i.e., sum by all MemberCategory for each Gender)."
      ],
      "metadata": {
        "id": "YcKjHkogvC4Z"
      }
    },
    {
      "cell_type": "code",
      "source": [
        "df_cust.cube(\"MemberCategory\",\"Gender\").sum(\"AmountSpent\").orderBy(\"MemberCategory\",\"Gender\").show()"
      ],
      "metadata": {
        "colab": {
          "base_uri": "https://localhost:8080/"
        },
        "id": "cSoBFaVTvLj5",
        "outputId": "212a1c8c-1d69-404a-bddc-f5d1870f7682"
      },
      "execution_count": null,
      "outputs": [
        {
          "output_type": "stream",
          "name": "stdout",
          "text": [
            "+--------------+------+------------------+\n",
            "|MemberCategory|Gender|  sum(AmountSpent)|\n",
            "+--------------+------+------------------+\n",
            "|          NULL|  NULL| 2486.309999999999|\n",
            "|          NULL|     F|           1090.21|\n",
            "|          NULL|     M|1396.1000000000001|\n",
            "|             A|  NULL|           1194.66|\n",
            "|             A|     F| 472.2199999999999|\n",
            "|             A|     M| 722.4399999999998|\n",
            "|             B|  NULL|500.40999999999997|\n",
            "|             B|     F|            216.48|\n",
            "|             B|     M|            283.93|\n",
            "|             C|  NULL|            791.24|\n",
            "|             C|     F|            401.51|\n",
            "|             C|     M|            389.73|\n",
            "+--------------+------+------------------+\n",
            "\n"
          ]
        }
      ]
    },
    {
      "cell_type": "markdown",
      "source": [
        "###Example 14: Getting the Standard Deviation of a field\n",
        "Obtaining the Standard Deviation of the Amounts that the customers spent."
      ],
      "metadata": {
        "id": "heITtDaTvRbR"
      }
    },
    {
      "cell_type": "code",
      "source": [
        "print(df_cust.agg(stddev_pop(\"AmountSpent\")).first())"
      ],
      "metadata": {
        "colab": {
          "base_uri": "https://localhost:8080/"
        },
        "id": "wA-vTmFmvZJd",
        "outputId": "c5d75869-7fb1-4552-91ba-a461c787d21e"
      },
      "execution_count": null,
      "outputs": [
        {
          "output_type": "stream",
          "name": "stdout",
          "text": [
            "Row(stddev_pop(AmountSpent)=28.895954726570288)\n"
          ]
        }
      ]
    },
    {
      "cell_type": "markdown",
      "source": [
        "###Example 15: Getting the Skewness of a field\n",
        "Obtaining the skewness of the Amounts that the customers spent."
      ],
      "metadata": {
        "id": "o164LGUYvrR9"
      }
    },
    {
      "cell_type": "code",
      "source": [
        "print(df_cust.agg(skewness(\"AmountSpent\")).first())"
      ],
      "metadata": {
        "colab": {
          "base_uri": "https://localhost:8080/"
        },
        "id": "PJjg9CMxvqOa",
        "outputId": "b230449f-aad6-403f-ff88-cd1ce0dca149"
      },
      "execution_count": null,
      "outputs": [
        {
          "output_type": "stream",
          "name": "stdout",
          "text": [
            "Row(skewness(AmountSpent)=-0.09241609965633672)\n"
          ]
        }
      ]
    },
    {
      "cell_type": "markdown",
      "source": [
        "###Example 16: Getting the Common Statistics of a few fields in one function call\n",
        "If you desire to obtain the most common statistical data of certain fields you may use the describe function as depicted below."
      ],
      "metadata": {
        "id": "MbVs5LASwEP7"
      }
    },
    {
      "cell_type": "code",
      "source": [
        "df_cust.describe(\"MemberCategory\", \"Gender\", \"AmountSpent\", \"Age\").show()"
      ],
      "metadata": {
        "colab": {
          "base_uri": "https://localhost:8080/"
        },
        "id": "k85V1_oVwINt",
        "outputId": "77084251-e1a2-4dcd-c995-2c85964c448f"
      },
      "execution_count": null,
      "outputs": [
        {
          "output_type": "stream",
          "name": "stdout",
          "text": [
            "+-------+--------------+------+------------------+------------------+\n",
            "|summary|MemberCategory|Gender|       AmountSpent|               Age|\n",
            "+-------+--------------+------+------------------+------------------+\n",
            "|  count|            50|    50|                50|                50|\n",
            "|   mean|          NULL|  NULL| 49.72619999999998|             41.82|\n",
            "| stddev|          NULL|  NULL|29.189322194310456|13.625740945964393|\n",
            "|    min|             A|     F|              2.98|                21|\n",
            "|    max|             C|     M|             99.52|                64|\n",
            "+-------+--------------+------+------------------+------------------+\n",
            "\n"
          ]
        }
      ]
    },
    {
      "cell_type": "markdown",
      "source": [
        "##MULITIPLE ENTITIES\n",
        "###Example 17: Joining two data sources (CSV) and retrieving data from both\n",
        "We will create two dataframes to load Customers and Country data. The country table which has been derived on normalising the country specific fields has a countrycode that maps to the countrycode field of the customers data.\n",
        "The following code (presented in Example 1) is augmented to include two dataframes, df1 and df2."
      ],
      "metadata": {
        "id": "mkIvKKYnwQ4r"
      }
    },
    {
      "cell_type": "code",
      "source": [
        "customerFilePath = \"/content/drive/My Drive/data/Customer.csv\"\n",
        "countryFilePath = \"/content/drive/My Drive/data/Country.json\"\n",
        "dfCustomer = ( spark.read .option(\"header\", \"true\")\n",
        "  .option(\"inferSchema\", \"true\")\n",
        "  .csv(customerFilePath) )\n",
        "\n",
        "dfCountry = (spark.read.option(\"header\", \"true\")\n",
        "  .option(\"inferSchema\", \"true\").json(countryFilePath))\n",
        "\n",
        "joinDF = dfCustomer.join(dfCountry, \"CountryCode\")\n",
        "\n",
        "joinDF.select(\"CustomerID\", \"CustomerName\",\n",
        "               \"CountryCode\", \"CountryName\", \"Currency\", \"TimeZone\").show()"
      ],
      "metadata": {
        "colab": {
          "base_uri": "https://localhost:8080/"
        },
        "id": "13MlzjLowVwn",
        "outputId": "6110e79f-8770-40c9-ac7c-4243db87f999"
      },
      "execution_count": null,
      "outputs": [
        {
          "output_type": "stream",
          "name": "stdout",
          "text": [
            "+----------+--------------------+-----------+-----------+--------+--------+\n",
            "|CustomerID|        CustomerName|CountryCode|CountryName|Currency|TimeZone|\n",
            "+----------+--------------------+-----------+-----------+--------+--------+\n",
            "|      1111|           Steven Ou|        BRA|     Brazil|     BRL|      -3|\n",
            "|      1002|       Ng Choon Seng|        CAN|     Canada|     CND|      -6|\n",
            "|      2828|         Cheryl Song|        FRA|     France|     FFR|       1|\n",
            "|      1000|        Lou Anna Tan|        GER|    Germany|     EUR|       2|\n",
            "|      4321|        Kok Kah Chee|        MAL|   Malaysia|     MYR|       8|\n",
            "|      9999|Seah Yang Hwee Ra...|        SIN|  Singapore|     SGD|       8|\n",
            "|      9847|       Low Soo Chiew|        SIN|  Singapore|     SGD|       8|\n",
            "|      9394|      Khoo Chee Huat|        SIN|  Singapore|     SGD|       8|\n",
            "|      8973|        Loke Je Hong|        SIN|  Singapore|     SGD|       8|\n",
            "|      8929|        Neo Keng Hoe|        SIN|  Singapore|     SGD|       8|\n",
            "|      8888|          Kelvin Koh|        SIN|  Singapore|     SGD|       8|\n",
            "|      8788|        Fu Shou Jeen|        SIN|  Singapore|     SGD|       8|\n",
            "|      8756|    Lu Yun Christine|        SIN|  Singapore|     SGD|       8|\n",
            "|      8080|      Chan Chin Fung|        SIN|  Singapore|     SGD|       8|\n",
            "|      7856|   Rajaram Venkatesh|        SIN|  Singapore|     SGD|       8|\n",
            "|      7616|     Cheong Pei Sian|        SIN|  Singapore|     SGD|       8|\n",
            "|      7345|      P Ravichandran|        SIN|  Singapore|     SGD|       8|\n",
            "|      6969|         Jason Young|        SIN|  Singapore|     SGD|       8|\n",
            "|      6932|        Ng Hwee Ling|        SIN|  Singapore|     SGD|       8|\n",
            "|      6628|         Margaret Ng|        SIN|  Singapore|     SGD|       8|\n",
            "+----------+--------------------+-----------+-----------+--------+--------+\n",
            "only showing top 20 rows\n",
            "\n"
          ]
        }
      ]
    },
    {
      "cell_type": "markdown",
      "source": [
        "##RETRIEVING DATA FROM OTHER DATA SOURCE TYPES\n",
        "###Example 18: Retrieving Data from Json Source."
      ],
      "metadata": {
        "id": "0jW8ZCWJ2lRN"
      }
    },
    {
      "cell_type": "code",
      "source": [
        "dfCountry.show()"
      ],
      "metadata": {
        "colab": {
          "base_uri": "https://localhost:8080/"
        },
        "id": "JZzO4eGA0k5I",
        "outputId": "9b334c20-0350-422e-f27e-5dcc6beffcce"
      },
      "execution_count": null,
      "outputs": [
        {
          "output_type": "stream",
          "name": "stdout",
          "text": [
            "+-----------+-----------+--------+--------+\n",
            "|CountryCode|CountryName|Currency|TimeZone|\n",
            "+-----------+-----------+--------+--------+\n",
            "|        ARG|  Argentina|     ARS|      -3|\n",
            "|        AUS|  Australia|     AUD|      10|\n",
            "|        BEL|    Belgium|     EUR|       1|\n",
            "|        BRA|     Brazil|     BRL|      -3|\n",
            "|        CAN|     Canada|     CND|      -6|\n",
            "|        DEN|    Denmark|     DKK|       1|\n",
            "|        FIN|    Finland|     EUR|       1|\n",
            "|        FRA|     France|     FFR|       1|\n",
            "|        GER|    Germany|     EUR|       2|\n",
            "|        IND|  Indonesia|     IDR|       7|\n",
            "|        IRE|    Ireland|     EUR|      -1|\n",
            "|        ITA|      Italy|     EUR|       3|\n",
            "|        JAP|      Japan|     JPY|       9|\n",
            "|        KOR|      Korea|     KRW|    NULL|\n",
            "|        MAL|   Malaysia|     MYR|       8|\n",
            "|        MEX|     Mexico|     MXV|    NULL|\n",
            "|        NOR|     Norway|    NULL|    NULL|\n",
            "|        POL|     Poland|    NULL|    NULL|\n",
            "|        POR|   Portugal|    NULL|    NULL|\n",
            "|        SIN|  Singapore|     SGD|       8|\n",
            "+-----------+-----------+--------+--------+\n",
            "only showing top 20 rows\n",
            "\n"
          ]
        }
      ]
    },
    {
      "cell_type": "markdown",
      "source": [
        "###Example 19: Retrieving Data from Json Source written in multiline format per entity.\n",
        "If the json document is formatted in multiline fashion rather than single line per record as above, you would need to specify multiline option as true.\n",
        "\n",
        "##WRITE OPERATIONS\n",
        "###Example 20: Saving a CSV file\n",
        "To demonstrate the write operations this simple example reads the Country.json json file and we use the df.write method to create a new CSV file.\n",
        "\n",
        "Please note the output path is a folder (not existing) – not a json file name.\n",
        "A new CSV file gets created in the specified folder with a system generated file name.\n"
      ],
      "metadata": {
        "id": "VYXrV03h2rXJ"
      }
    },
    {
      "cell_type": "code",
      "source": [
        "dfCountry.write.csv(\"CountryOUT\")"
      ],
      "metadata": {
        "id": "vyqgPmIv3HmI"
      },
      "execution_count": null,
      "outputs": []
    },
    {
      "cell_type": "markdown",
      "source": [
        "#PRACTICE EXERCISES\n",
        "Using Dataframes and SparkSQL and working on Rebu Case study files mentioned above, write Spark SQL for the following:\n",
        "##A. Data retrieval using Spark SQL\n",
        "1. Retrieve all Driver data (use Drivers.CSV)\n"
      ],
      "metadata": {
        "id": "CQa6qTEg31vy"
      }
    },
    {
      "cell_type": "code",
      "source": [],
      "metadata": {
        "id": "_72LJ0kv36_U"
      },
      "execution_count": null,
      "outputs": []
    },
    {
      "cell_type": "markdown",
      "source": [
        "2. Retrieve all Taxis and display the data in ascending order of Taxi License Plate number.\n"
      ],
      "metadata": {
        "id": "Lf8XWJkB37vI"
      }
    },
    {
      "cell_type": "code",
      "source": [],
      "metadata": {
        "id": "LkgCrkKo3__-"
      },
      "execution_count": null,
      "outputs": []
    },
    {
      "cell_type": "markdown",
      "source": [
        "3. Retrieve all Limosine Taxies. You should display only the Taxi Number, Taxi Type, and Taxi Colour.\n"
      ],
      "metadata": {
        "id": "En-c3tCP4AXs"
      }
    },
    {
      "cell_type": "code",
      "source": [],
      "metadata": {
        "id": "Uzxd441_4CR6"
      },
      "execution_count": null,
      "outputs": []
    },
    {
      "cell_type": "markdown",
      "source": [
        "4. Retrieve all 4 seater Premier taxis.\n"
      ],
      "metadata": {
        "id": "ZvIsWqjU4Cz-"
      }
    },
    {
      "cell_type": "code",
      "source": [],
      "metadata": {
        "id": "WaJr6fvI4EnE"
      },
      "execution_count": null,
      "outputs": []
    },
    {
      "cell_type": "markdown",
      "source": [
        "##B. Aggregation and Statistical Queries (use BEAD_Rebu_TripData.CSV)\n",
        "5. Determine the average distance per trip based on ALL trips in the month of January 2024.\n"
      ],
      "metadata": {
        "id": "U2D6VGhk4FW-"
      }
    },
    {
      "cell_type": "code",
      "source": [],
      "metadata": {
        "id": "s01DcfKY4ItT"
      },
      "execution_count": null,
      "outputs": []
    },
    {
      "cell_type": "markdown",
      "source": [
        "6. Find the total fares collected grouped by Taxi Type Maxi Cab\n"
      ],
      "metadata": {
        "id": "dFKaMHSF4IAA"
      }
    },
    {
      "cell_type": "code",
      "source": [],
      "metadata": {
        "id": "fYoeCSbk4LBh"
      },
      "execution_count": null,
      "outputs": []
    },
    {
      "cell_type": "markdown",
      "source": [
        "##C. Analytics Questions\n",
        "7. Determine the Average Occupancy i.e., (Number of Passengers / Passenger Capacity) for Standard Taxis."
      ],
      "metadata": {
        "id": "1ikmIT6u4LS-"
      }
    },
    {
      "cell_type": "code",
      "source": [],
      "metadata": {
        "id": "_LgjqNLy4NcG"
      },
      "execution_count": null,
      "outputs": []
    },
    {
      "cell_type": "markdown",
      "source": [
        "\n",
        "---\n",
        "END OF WORKSHOP\n",
        "\n",
        "\n",
        "---\n",
        "\n",
        "\n"
      ],
      "metadata": {
        "id": "jKr4tRjL4N-E"
      }
    }
  ]
}